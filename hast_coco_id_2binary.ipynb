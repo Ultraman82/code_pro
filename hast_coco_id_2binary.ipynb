{
 "metadata": {
  "language_info": {
   "codemirror_mode": {
    "name": "ipython",
    "version": 3
   },
   "file_extension": ".py",
   "mimetype": "text/x-python",
   "name": "python",
   "nbconvert_exporter": "python",
   "pygments_lexer": "ipython3",
   "version": "3.8.3-final"
  },
  "orig_nbformat": 2,
  "kernelspec": {
   "name": "python3",
   "display_name": "Python 3",
   "language": "python"
  }
 },
 "nbformat": 4,
 "nbformat_minor": 2,
 "cells": [
  {
   "cell_type": "code",
   "execution_count": 1,
   "metadata": {},
   "outputs": [],
   "source": [
    "import json\n",
    "json1_path = '../annotations/test1.json'\n",
    "json2_path = '../annotations/test2.json'"
   ]
  },
  {
   "cell_type": "code",
   "execution_count": 2,
   "metadata": {},
   "outputs": [],
   "source": [
    "with open(json1_path) as json_file:\n",
    "    json1 = json.load(json_file)     \n",
    "with open(json2_path) as json_file:\n",
    "    json2 = json.load(json_file)     "
   ]
  },
  {
   "cell_type": "code",
   "execution_count": 5,
   "metadata": {},
   "outputs": [],
   "source": [
    "\n",
    "last_image_id = json1['images'][-1]['id']\n",
    "last_ann_id = json1['annotations'][-1]['id'] + 1\n"
   ]
  },
  {
   "cell_type": "code",
   "execution_count": 6,
   "metadata": {},
   "outputs": [
    {
     "output_type": "execute_result",
     "data": {
      "text/plain": [
       "[{'id': 1, 'name': 'big_house', 'supercategory': 'object'},\n",
       " {'id': 2, 'name': 'house', 'supercategory': 'object'},\n",
       " {'id': 3, 'name': 'container', 'supercategory': 'object'},\n",
       " {'id': 4, 'name': 'big_building', 'supercategory': 'object'},\n",
       " {'id': 5, 'name': 'road', 'supercategory': 'object'},\n",
       " {'id': 6, 'name': 'building', 'supercategory': 'object'},\n",
       " {'id': 7, 'name': 'house_cluster', 'supercategory': 'object'},\n",
       " {'id': 8, 'name': 'building_cluster', 'supercategory': 'object'},\n",
       " {'id': 9, 'name': 'etc', 'supercategory': 'object'},\n",
       " {'id': 10, 'name': 'empty_soil', 'supercategory': 'object'},\n",
       " {'id': 11, 'name': 'empty_paved', 'supercategory': 'object'},\n",
       " {'id': 12, 'name': 'empty_etc', 'supercategory': 'object'}]"
      ]
     },
     "metadata": {},
     "execution_count": 6
    }
   ],
   "source": [
    "cat_list1 = json1['categories']\n",
    "cat_list1"
   ]
  },
  {
   "cell_type": "code",
   "execution_count": 7,
   "metadata": {},
   "outputs": [
    {
     "output_type": "execute_result",
     "data": {
      "text/plain": [
       "{'big_house': 1,\n",
       " 'house': 2,\n",
       " 'container': 3,\n",
       " 'big_building': 4,\n",
       " 'road': 5,\n",
       " 'building': 6,\n",
       " 'house_cluster': 7,\n",
       " 'building_cluster': 8,\n",
       " 'etc': 9,\n",
       " 'empty_soil': 10,\n",
       " 'empty_paved': 11,\n",
       " 'empty_etc': 12}"
      ]
     },
     "metadata": {},
     "execution_count": 7
    }
   ],
   "source": [
    "clssCnv = {}\n",
    "for cat in cat_list1:\n",
    "    clssCnv[cat['name']] = cat['id']\n",
    "clssCnv"
   ]
  },
  {
   "cell_type": "code",
   "execution_count": 8,
   "metadata": {},
   "outputs": [
    {
     "output_type": "execute_result",
     "data": {
      "text/plain": [
       "{1: 'building',\n",
       " 2: 'big_building',\n",
       " 3: 'house',\n",
       " 4: 'big_house',\n",
       " 5: 'house_cluster',\n",
       " 6: 'building_cluster',\n",
       " 7: 'container',\n",
       " 8: 'road',\n",
       " 9: 'etc',\n",
       " 10: 'empty_soil',\n",
       " 11: 'empty_paved',\n",
       " 12: 'empty_etc'}"
      ]
     },
     "metadata": {},
     "execution_count": 8
    }
   ],
   "source": [
    "cat_list2 = json2['categories']\n",
    "cat_list2\n",
    "clssInd = {}\n",
    "for cat in cat_list2:\n",
    "    clssInd[cat['id']] = cat['name']\n",
    "clssInd\n"
   ]
  },
  {
   "cell_type": "code",
   "execution_count": 9,
   "metadata": {
    "tags": []
   },
   "outputs": [
    {
     "output_type": "stream",
     "name": "stdout",
     "text": [
      "{'id': 0, 'image_id': 1, 'category_id': 1, 'segmentation': [[617, 706, 616, 695, 624, 695, 630, 611, 626, 602, 628, 581, 623, 576, 529, 568, 519, 686, 532, 696, 554, 694, 556, 706]], 'area': 13343.0, 'bbox': [519, 568, 111, 138], 'iscrowd': 0}\n{'id': 3706, 'image_id': 101, 'category_id': 6, 'segmentation': [[617, 706, 616, 695, 624, 695, 630, 611, 626, 602, 628, 581, 623, 576, 529, 568, 519, 686, 532, 696, 554, 694, 556, 706]], 'area': 13343.0, 'bbox': [519, 568, 111, 138], 'iscrowd': 0}\n"
     ]
    }
   ],
   "source": [
    "json2_ann = json2['annotations']\n",
    "print(json2_ann[0])\n",
    "new_ann = []\n",
    "for annotation in json2_ann:\n",
    "    cat_id = annotation['category_id']\n",
    "    annotation['category_id'] = clssCnv[clssInd[cat_id]]     \n",
    "    annotation['image_id'] += last_image_id\n",
    "    annotation['id'] += last_ann_id\n",
    "\n",
    "    new_ann.append(annotation)\n",
    "print(new_ann[0])\n",
    "# json2['annotations'] = new_ann\n",
    "    # print(\"target : \" + nv[clssInd[cat_id]])"
   ]
  },
  {
   "cell_type": "code",
   "execution_count": 10,
   "metadata": {},
   "outputs": [
    {
     "output_type": "stream",
     "name": "stdout",
     "text": [
      "{'id': 1, 'width': 1442, 'height': 995, 'file_name': '5_0_14.jpg', 'license': None, 'flickr_url': '', 'coco_url': None, 'date_captured': '2020-12-29T05:36:54Z'}\n"
     ]
    },
    {
     "output_type": "execute_result",
     "data": {
      "text/plain": [
       "{'id': 101,\n",
       " 'width': 1442,\n",
       " 'height': 995,\n",
       " 'file_name': '5_0_14.jpg',\n",
       " 'license': None,\n",
       " 'flickr_url': '',\n",
       " 'coco_url': None,\n",
       " 'date_captured': '2020-12-29T05:36:54Z'}"
      ]
     },
     "metadata": {},
     "execution_count": 10
    }
   ],
   "source": [
    "json2_img = json2['images']\n",
    "print(json2_img[0])\n",
    "for img in json2_img:\n",
    "    img['id'] += 100\n",
    "json2_img[0]"
   ]
  },
  {
   "cell_type": "code",
   "execution_count": 11,
   "metadata": {},
   "outputs": [],
   "source": [
    "cat_list2\n",
    "new_cat_list2 = []\n",
    "for cat in cat_list2:\n",
    "    cat['id'] = clssCnv[cat['name']]\n",
    "    new_cat_list2.append(cat)\n",
    "json2['categories'] = new_cat_list2"
   ]
  },
  {
   "cell_type": "code",
   "execution_count": 12,
   "metadata": {},
   "outputs": [
    {
     "output_type": "execute_result",
     "data": {
      "text/plain": [
       "{'id': 1,\n",
       " 'width': 1442,\n",
       " 'height': 995,\n",
       " 'file_name': '0_0_14.jpg',\n",
       " 'license': None,\n",
       " 'flickr_url': '',\n",
       " 'coco_url': None,\n",
       " 'date_captured': '2020-12-30T00:09:24Z'}"
      ]
     },
     "metadata": {},
     "execution_count": 12
    }
   ],
   "source": [
    "merged = json1.copy()\n",
    "merged['images'][0]"
   ]
  },
  {
   "cell_type": "code",
   "execution_count": 13,
   "metadata": {},
   "outputs": [
    {
     "output_type": "stream",
     "name": "stdout",
     "text": [
      "{'id': 100, 'image_id': 61, 'category_id': 6, 'segmentation': {'size': [995, 1442], 'counts': 'QRd?4en0=@>J6D;O2N100O101O00000010O0010O00010O01O010O1O001O100O1O1O1O1O1O1O2N1O1O001O1O1O001O1O1O1O1O1O1O1O2M6K[caj0'}, 'area': 2262, 'bbox': [514, 593, 53, 58], 'iscrowd': 0}\n7764\n"
     ]
    },
    {
     "output_type": "execute_result",
     "data": {
      "text/plain": [
       "{'id': 101,\n",
       " 'width': 1442,\n",
       " 'height': 995,\n",
       " 'file_name': '5_0_14.jpg',\n",
       " 'license': None,\n",
       " 'flickr_url': '',\n",
       " 'coco_url': None,\n",
       " 'date_captured': '2020-12-29T05:36:54Z'}"
      ]
     },
     "metadata": {},
     "execution_count": 13
    }
   ],
   "source": [
    "# merged['annotations'] += json2['annotations']\n",
    "merged['annotations'] += new_ann\n",
    "merged['images'] += json2['images']\n",
    "print(merged['annotations'][100])\n",
    "print(len(merged['annotations']))\n",
    "merged['images'][100]\n"
   ]
  },
  {
   "cell_type": "code",
   "execution_count": 14,
   "metadata": {},
   "outputs": [],
   "source": [
    "with open('merged.json', 'w') as outfile:\n",
    "    json.dump(merged, outfile)"
   ]
  },
  {
   "cell_type": "code",
   "execution_count": 15,
   "metadata": {},
   "outputs": [
    {
     "output_type": "execute_result",
     "data": {
      "text/plain": [
       "7764"
      ]
     },
     "metadata": {},
     "execution_count": 15
    }
   ],
   "source": [
    "len(merged['annotations'])"
   ]
  },
  {
   "cell_type": "code",
   "execution_count": null,
   "metadata": {},
   "outputs": [],
   "source": []
  }
 ]
}