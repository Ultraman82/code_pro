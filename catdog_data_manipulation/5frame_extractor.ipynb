{
 "metadata": {
  "language_info": {
   "codemirror_mode": {
    "name": "ipython",
    "version": 3
   },
   "file_extension": ".py",
   "mimetype": "text/x-python",
   "name": "python",
   "nbconvert_exporter": "python",
   "pygments_lexer": "ipython3",
   "version": "3.7.9-final"
  },
  "orig_nbformat": 2,
  "kernelspec": {
   "name": "python3",
   "display_name": "Python 3"
  }
 },
 "nbformat": 4,
 "nbformat_minor": 2,
 "cells": [
  {
   "cell_type": "code",
   "execution_count": 1,
   "metadata": {},
   "outputs": [],
   "source": [
    "import glob\n",
    "import os\n",
    "import json\n",
    "from os import walk\n",
    "import re\n",
    "import random\n",
    "from subprocess import call\n",
    "import shutil\n",
    " "
   ]
  },
  {
   "cell_type": "code",
   "execution_count": 2,
   "metadata": {},
   "outputs": [],
   "source": [
    "\n",
    "clssInd = {}\n",
    "root_path = '/home/oem/data/5frames'"
   ]
  },
  {
   "cell_type": "code",
   "execution_count": 11,
   "metadata": {
    "tags": []
   },
   "outputs": [],
   "source": [
    "with open('val_short100.txt', 'r') as read_file:    \n",
    "    test_list = [row.strip() for row in read_file]    \n",
    "with open('val_short100_5f.txt', 'w') as write_file:\n",
    "    for clss in test_list:        \n",
    "        [file_path, frame_len, clss] = clss.split(' ')\n",
    "        [date, file_name] = file_path.split('/')\n",
    "        sub_dir = os.path.join(root_path, date)\n",
    "        dest_file_path = os.path.join(root_path, date, file_name)\n",
    "        if not os.path.exists(sub_dir):                                        \n",
    "            os.mkdir(sub_dir)\n",
    "        if not os.path.exists(dest_file_path):                                       \n",
    "            os.mkdir(dest_file_path)    \n",
    "        len = 0\n",
    "        for file_name in os.listdir(file_path):        \n",
    "            ind = int(file_name[5:9])\n",
    "            src = os.path.join(file_path, file_name)                        \n",
    "            if ind % 6 == 1:\n",
    "                # print(\"copying\", file_name)\n",
    "                ind = int((ind / 6) + 1)\n",
    "                dest = dest_file_path + \"/img_\" + str('{:05d}'.format(ind)) + '.jpg'\n",
    "                shutil.copyfile(src, dest)\n",
    "                len += 1        \n",
    "        write_file.write(\"{} {} {}\\n\".format(file_path, len, clss))"
   ]
  },
  {
   "cell_type": "code",
   "execution_count": 10,
   "metadata": {},
   "outputs": [],
   "source": [
    "\n"
   ]
  }
 ]
}