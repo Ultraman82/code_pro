{
 "metadata": {
  "language_info": {
   "codemirror_mode": {
    "name": "ipython",
    "version": 3
   },
   "file_extension": ".py",
   "mimetype": "text/x-python",
   "name": "python",
   "nbconvert_exporter": "python",
   "pygments_lexer": "ipython3",
   "version": "3.7.6-final"
  },
  "orig_nbformat": 2,
  "kernelspec": {
   "name": "python3",
   "display_name": "Python 3",
   "language": "python"
  }
 },
 "nbformat": 4,
 "nbformat_minor": 2,
 "cells": [
  {
   "cell_type": "code",
   "execution_count": 1,
   "metadata": {},
   "outputs": [],
   "source": [
    "import glob\n",
    "import os\n",
    "import json\n",
    "from os import walk\n",
    "import re\n",
    "import random\n",
    "from subprocess import call\n",
    " "
   ]
  },
  {
   "cell_type": "code",
   "execution_count": null,
   "metadata": {
    "tags": []
   },
   "outputs": [],
   "source": [
    "# classes = {}\n",
    "# directory = './'\n",
    "# ind_cnt = 0\n",
    "# for subdir in os.listdir(directory):        \n",
    "#     if not subdir.startswith('_'):\n",
    "#         tmp = []        \n",
    "        \n",
    "#         classInd[subdir] = ind_cnt\n",
    "#         ind_cnt += 1    \n",
    "        \n",
    "#         for file_name in os.listdir(subdir):          \n",
    "#             class_name = subdir            \n",
    "#             class_index = classInd[class_name]                      \n",
    "#             target_path = subdir + \"/\" + file_name[:-4]\n",
    "#             tmp.append(target_path)\n",
    "#             if not os.path.exists(target_path):            \n",
    "#                 os.mkdir(target_path)                \n",
    "#                 src = os.path.join(subdir, file_name)                \n",
    "#                 dest = os.path.join(target_path, 'img_%05d.jpg')                      \n",
    "#                 print(\"extracting {}\".format(src))              \n",
    "#                 call([\"ffmpeg\", \"-i\", src, \"-threads\", \"20\", dest])           0  \n",
    "#     else:\n",
    "#         continue\n",
    "#     classes[subdir] = tmp"
   ]
  },
  {
   "cell_type": "code",
   "execution_count": 2,
   "metadata": {},
   "outputs": [
    {
     "output_type": "stream",
     "name": "stdout",
     "text": [
      "{'sit': '0', 'feetup': '1', 'bodylower': '2', 'laydown': '3', 'lying': '4', 'bodyshake': '5', 'grooming': '6', 'turn': '7', 'tailing': '8', 'sitdown': '9', 'footup': '10', 'armstretch': '11', 'mounting': '12', 'taillow': '13', 'heading': '14', 'arch': '15', 'roll': '16', 'getdown': '17', 'footpush': '18', 'walkrun': '19', 'bodyscratch': '20'}\n"
     ]
    }
   ],
   "source": [
    "clssInd = {}\n",
    "with open('_clssInd.txt', 'r') as fin:    \n",
    "    test_list = [row.strip() for row in fin]    \n",
    "    for clss in test_list:\n",
    "        # print(clss.split(' '))\n",
    "        [clssName, index] = clss.split(' ')\n",
    "        clssInd[clssName] = index\n",
    "    print(clssInd)\n"
   ]
  },
  {
   "cell_type": "code",
   "execution_count": 5,
   "metadata": {
    "tags": [
     "outputPrepend"
    ]
   },
   "outputs": [
    {
     "output_type": "stream",
     "name": "stdout",
     "text": [
      "unting/dog-mounting-004003', 'mounting/dog-mounting-005979', 'mounting/dog-mounting-003094', 'mounting/dog-mounting-006109', 'mounting/dog-mounting-004339', 'mounting/dog-mounting-005646', 'mounting/dog-mounting-011494', 'mounting/dog-mounting-006361', 'mounting/dog-mounting-009586', 'mounting/dog-mounting-018741', 'mounting/dog-mounting-009127', 'mounting/dog-mounting-018911', 'mounting/dog-mounting-009580', 'mounting/dog-mounting-014314', 'mounting/dog-mounting-038118', 'mounting/dog-mounting-009492', 'mounting/dog-mounting-004917', 'mounting/dog-mounting-009655', 'mounting/dog-mounting-004943', 'mounting/dog-mounting-009072'], 'heading': ['heading/dog-heading-055448', 'heading/cat-heading-003616', 'heading/dog-heading-010209', 'heading/cat-heading-012661', 'heading/dog-heading-009270', 'heading/cat-heading-003194', 'heading/dog-heading-000971', 'heading/dog-heading-058449', 'heading/dog-heading-014691', 'heading/dog-heading-008390', 'heading/dog-heading-010145', 'heading/dog-heading-058529', 'heading/dog-heading-011227', 'heading/cat-heading-002336', 'heading/dog-heading-008554', 'heading/dog-heading-012413', 'heading/dog-heading-004668', 'heading/dog-heading-009433', 'heading/cat-heading-010908', 'heading/dog-heading-005293', 'heading/cat-heading-013451', 'heading/cat-heading-011374', 'heading/dog-heading-006387', 'heading/dog-heading-006447', 'heading/dog-heading-000187', 'heading/dog-heading-014133', 'heading/dog-heading-008746', 'heading/cat-heading-010010', 'heading/dog-heading-000708', 'heading/cat-heading-038660', 'heading/dog-heading-002983', 'heading/dog-heading-009416', 'heading/dog-heading-005561', 'heading/cat-heading-007285', 'heading/cat-heading-006623', 'heading/cat-heading-008114', 'heading/dog-heading-022554', 'heading/dog-heading-000103', 'heading/dog-heading-001148', 'heading/dog-heading-006665', 'heading/cat-heading-003628', 'heading/dog-heading-015501', 'heading/cat-heading-008506', 'heading/dog-heading-009452', 'heading/cat-heading-009577', 'heading/dog-heading-010465', 'heading/dog-heading-001398', 'heading/dog-heading-010197', 'heading/cat-heading-013256', 'heading/dog-heading-005861', 'heading/dog-heading-001064', 'heading/cat-heading-010892', 'heading/dog-heading-009388', 'heading/dog-heading-038666', 'heading/dog-heading-003554', 'heading/cat-heading-009701', 'heading/dog-heading-008968', 'heading/dog-heading-016071', 'heading/cat-heading-010699', 'heading/dog-heading-001928', 'heading/cat-heading-010998', 'heading/dog-heading-007768', 'heading/cat-heading-010367', 'heading/dog-heading-001452', 'heading/cat-heading-004324', 'heading/dog-heading-000829', 'heading/dog-heading-005112', 'heading/dog-heading-008532', 'heading/cat-heading-009791', 'heading/cat-heading-007597', 'heading/dog-heading-005312', 'heading/dog-heading-013591', 'heading/cat-heading-008635', 'heading/cat-heading-006604', 'heading/dog-heading-011427', 'heading/cat-heading-034464', 'heading/dog-heading-001878', 'heading/cat-heading-009005', 'heading/cat-heading-019822', 'heading/dog-heading-001251', 'heading/cat-heading-011492', 'heading/dog-heading-008964', 'heading/dog-heading-006780', 'heading/dog-heading-001179', 'heading/dog-heading-001664', 'heading/cat-heading-003468', 'heading/dog-heading-000395', 'heading/cat-heading-005747', 'heading/dog-heading-014051', 'heading/dog-heading-008744', 'heading/dog-heading-020482', 'heading/dog-heading-000022', 'heading/dog-heading-010035', 'heading/dog-heading-001397', 'heading/cat-heading-005192', 'heading/cat-heading-011384', 'heading/cat-heading-038547', 'heading/dog-heading-020492', 'heading/dog-heading-021514', 'heading/cat-heading-002340', 'heading/dog-heading-009779', 'heading/dog-heading-008769', 'heading/cat-heading-032396', 'heading/dog-heading-011562', 'heading/cat-heading-011453', 'heading/dog-heading-011269', 'heading/cat-heading-003650', 'heading/dog-heading-000746', 'heading/dog-heading-005625', 'heading/cat-heading-002399', 'heading/dog-heading-006684', 'heading/dog-heading-011096', 'heading/dog-heading-000827', 'heading/dog-heading-000168', 'heading/cat-heading-010416', 'heading/cat-heading-006077', 'heading/dog-heading-011057', 'heading/cat-heading-004996', 'heading/dog-heading-000450', 'heading/dog-heading-032924', 'heading/dog-heading-015594', 'heading/cat-heading-003012', 'heading/dog-heading-015621', 'heading/dog-heading-009937', 'heading/cat-heading-034164', 'heading/dog-heading-009344', 'heading/dog-heading-001696', 'heading/cat-heading-009108', 'heading/cat-heading-003745', 'heading/cat-heading-002528', 'heading/cat-heading-006584', 'heading/cat-heading-005735', 'heading/dog-heading-007404', 'heading/dog-heading-001204', 'heading/dog-heading-008075', 'heading/dog-heading-008667', 'heading/dog-heading-016211', 'heading/cat-heading-036284', 'heading/dog-heading-000945', 'heading/dog-heading-009130', 'heading/dog-heading-038629', 'heading/dog-heading-004819', 'heading/dog-heading-014101', 'heading/cat-heading-003679', 'heading/dog-heading-015541', 'heading/dog-heading-010369', 'heading/dog-heading-009306', 'heading/cat-heading-011894', 'heading/dog-heading-011091', 'heading/dog-heading-000751', 'heading/dog-heading-014143', 'heading/dog-heading-000056', 'heading/cat-heading-010381', 'heading/cat-heading-010455', 'heading/dog-heading-007058', 'heading/dog-heading-006648', 'heading/dog-heading-031954', 'heading/dog-heading-000147', 'heading/dog-heading-003845', 'heading/cat-heading-038337', 'heading/dog-heading-014854', 'heading/dog-heading-001744', 'heading/cat-heading-000128', 'heading/dog-heading-011022', 'heading/dog-heading-009175', 'heading/dog-heading-006597', 'heading/cat-heading-010791', 'heading/cat-heading-009954', 'heading/cat-heading-002398', 'heading/dog-heading-009662', 'heading/dog-heading-011080', 'heading/cat-heading-009813', 'heading/cat-heading-009708', 'heading/dog-heading-038418', 'heading/dog-heading-000179', 'heading/dog-heading-051825', 'heading/dog-heading-016064', 'heading/dog-heading-008652', 'heading/dog-heading-038531', 'heading/dog-heading-009161', 'heading/cat-heading-007234', 'heading/dog-heading-010002', 'heading/dog-heading-000709', 'heading/dog-heading-003306', 'heading/dog-heading-014131', 'heading/cat-heading-010272', 'heading/dog-heading-001747', 'heading/cat-heading-008365', 'heading/cat-heading-003861', 'heading/dog-heading-000835', 'heading/dog-heading-038625', 'heading/dog-heading-031014', 'heading/dog-heading-000806', 'heading/dog-heading-058619', 'heading/dog-heading-006569', 'heading/dog-heading-018634', 'heading/cat-heading-021784', 'heading/cat-heading-011775', 'heading/cat-heading-034364', 'heading/cat-heading-005939', 'heading/dog-heading-007328', 'heading/cat-heading-010796', 'heading/cat-heading-000858', 'heading/dog-heading-008056', 'heading/dog-heading-007993', 'heading/dog-heading-051805', 'heading/cat-heading-037294', 'heading/dog-heading-011241', 'heading/dog-heading-009397', 'heading/dog-heading-001209', 'heading/dog-heading-006543', 'heading/dog-heading-009972', 'heading/dog-heading-015163', 'heading/cat-heading-008063', 'heading/cat-heading-011501', 'heading/dog-heading-011905', 'heading/dog-heading-008157', 'heading/cat-heading-018594', 'heading/dog-heading-005131', 'heading/dog-heading-015634', 'heading/cat-heading-038269', 'heading/dog-heading-010932', 'heading/cat-heading-014721', 'heading/cat-heading-009666', 'heading/dog-heading-012686', 'heading/cat-heading-002736', 'heading/cat-heading-004036', 'heading/dog-heading-000778', 'heading/dog-heading-011120', 'heading/cat-heading-003795', 'heading/cat-heading-005269', 'heading/dog-heading-002261', 'heading/cat-heading-023454', 'heading/dog-headin', 'heading/cat-heading-003386', 'heading/dog-heading-010090', 'heading/dog-heading-002183', 'heading/dog-heading-000040', 'heading/dog-heading-004804', 'heading/dog-heading-004689', 'heading/dog-heading-001313', 'heading/do', 'heading/dog-heading-010040', 'heading/cat-heading-011349', 'heading/dog-heading-001274', 'heading/cat-heading-007392', 'heading/dog-heading-014382', 'heading/dog-heading-011347', 'heading/cat-heading-008117', 'heading/cat-heading-007836', 'heading/dog-heading-010014', 'heading/cat-heading-006509', 'heading/cat-heading-012001', 'heading/cat-heading-010610', 'heading/dog-heading-008180', 'heading/dog-heading-015846', 'heading/dog-heading-038037', 'heading/cat-heading-007003', 'heading/dog-heading-000740', 'heading/dog-heading-019244', 'heading/dog-heading-008543', 'heading/dog-heading-011922', 'heading/dog-heading-009571', 'heading/dog-heading-016096', 'heading/dog-heading-001675', 'heading/dog-heading-010230', 'heading/dog-heading-000995', 'heading/dog-heading-005533', 'heading/cat-heading-007595', 'heading/dog-heading-000818', 'heading/dog-heading-016872', 'heading/dog-heading-010958', 'heading/dog-heading-001066', 'heading/dog-heading-004258', 'heading/dog-heading-014423', 'heading/dog-heading-01', 'heading/dog-heading-014862', 'heading/dog-heading-002079', 'heading/dog-heading-006382', 'heading/dog-heading-009928', 'heading/dog-heading-038400', 'heading/dog-heading-004810', 'heading/cat-heading-013521', 'heading/dog-heading-008188', 'heading/dog-heading-007743', 'heading/cat-heading-005607', 'heading/cat-heading-010904', 'heading/cat-heading-004031', 'heading/dog-heading-008237', 'heading/dog-heading-000998', 'heading/dog-heading-009418', 'heading/cat-heading-000065', 'heading/dog-heading-000163', 'heading/dog-heading-006388', 'heading/cat-heading-038281', 'heading/cat-heading-022044', 'heading/dog-heading-007338', 'heading/cat-heading-004326', 'heading/dog-heading-009214', 'heading/dog-heading-008147', 'heading/dog-heading-009520', 'heading/cat-heading-010938', 'heading/dog-heading-009137', 'heading/dog-heading-001742', 'heading/dog-heading-007315', 'heading/dog-heading-007102', 'heading/dog-heading-002196', 'heading/cat-heading-003809', 'heading/dog-heading-011402', 'heading/cat-heading-002521', 'heading/dog-he', 'heading/dog-heading-011641', 'heading/dog-heading-001002', 'heading/dog-heading-010067', 'heading/cat-heading-012563', 'heading/dog-heading-001166', 'heading/cat-heading-000397', 'heading/dog-heading-000193', 'heading/dog-heading-007865', 'heading/cat-heading-005519', 'heading/cat-heading-010502', 'heading/cat-heading-002896', 'heading/cat-heading-001423', 'heading/cat-heading-012421', 'heading/dog-heading-000547', 'heading/dog-heading-000624', 'heading/cat-heading-006313', 'heading/dog-heading-003307', 'heading/cat-heading-038029', 'heading/dog-heading-000647', 'heading/dog-heading-003368', 'heading/dog-heading-000589', 'heading/cat-heading-002031', 'heading/cat-heading-005807', 'heading/dog-heading-008536', 'heading/dog-heading-022814', 'heading/dog-heading-007410', 'heading/dog-heading-038429', 'heading/cat-heading-008886', 'heading/dog-heading-006767', 'heading/cat-heading-002962', 'heading/dog-heading-011090', 'heading/cat-heading-005168', 'heading/cat-heading-008246', 'heading/dog-heading-001095', 'heading/dog-heading-000181', 'heading/dog-heading-001201', 'heading/dog-heading-004669', 'heading/dog-heading-001194', 'heading/cat-heading-009031', 'heading/dog-heading-009182', 'heading/dog-heading-000505', 'heading/dog-heading-00', 'heading/dog-heading-002217', 'heading/dog-heading-003849', 'heading/cat-heading-008064', 'heading/dog-heading-016231', 'heading/dog-heading-009962', 'heading/dog-heading-001152', 'heading/dog-heading-000863', 'heading/dog-heading-000720', 'heading/cat-heading-009808', 'heading/dog-heading-011561', 'heading/cat-heading-004160', 'heading/dog-heading-005226', 'heading/dog-heading-008715', 'heading/dog-heading-004297', 'heading/cat-heading-008742', 'heading/dog-heading-004855', 'heading/cat-heading-006773', 'heading/cat-heading-004230', 'heading/dog-heading-009166', 'heading/cat-heading-006613', 'heading/cat-heading-015555', 'heading/cat-heading-031146', 'heading/dog-heading-004524', 'heading/cat-heading-010968', 'heading/dog-heading-012901'], 'getdown': ['getdown/cat-getdown-000393', 'getdown/cat-getdown-016052', 'getdown/cat-getdown-003597', 'getdown/cat-getdown-046729', 'getdown/cat-getdown-008026', 'getdown/cat-getdown-000280', 'getdown/cat-getdown-001827', 'getdown/cat-getdown-000545', 'getdown/cat-getdown-005195', 'getdown/cat-getdown-013576', 'getdown/cat-getdown-010700', 'getdown/cat-getdown-016195', 'getdown/cat-getdown-016185', 'getdown/cat-getdown-012213', 'getdown/cat-getdown-005475', 'getdown/cat-getdown-002899', 'getdown/cat-getdown-000916', 'getdown/cat-getdown-015196', 'getdown/cat-getdown-009555', 'getdown/cat-getdown-002800', 'getdown/cat-getdown-001110', 'getdown/cat-getdown-025324', 'getdown/cat-getdown-008009', 'getdown/cat-getdown-002017', 'getdown/cat-getdown-002617', 'getdown/cat-getdown-001564', 'getdown/cat-getdown-015551', 'getdown/cat-getdown-009104', 'getdown/cat-getdown-007239', 'getdown/cat-getdown-000729', 'getdown/cat-getdown-003447', 'getdown/cat-getdown-007869', 'getdown/cat-getdown-004335', 'getdown/cat-getdown-009122', 'getdown/cat-getdown-018162', 'getdown/cat-getdown-005012', 'getdown/cat-getdown-014480', 'getdown/cat-getdown-002820', 'getdown/cat-getdown-010750', 'getdown/cat-getdown-009539', 'getdown/cat-getdown-004554', 'getdown/cat-getdown-015011', 'getdown/cat-getdown-007893', 'getdown/cat-getdown-003764', 'getdown/cat-getdown-015377', 'getdown/cat-getdown-025904', 'getdown/cat-getdown-010249', 'getdown/cat-getdown-010125', 'getdown/cat-getdown-000536', 'getdown/cat-getdown-001476', 'getdown/cat-getdown-001285', 'getdown/cat-getdown-008948', 'getdown/cat-getdown-035854', 'getdown/cat-getdown-009547', 'getdown/cat-getdown-001369', 'getdown/cat-getdown-003594', 'getdown/cat-getdown-001116', 'getdown/cat-getdown-002526', 'getdown/cat-getdown-008127', 'getdown/cat-getdown-002582', 'getdown/cat-getdown-011311', 'getdown/cat-getdown-002517', 'getdown/cat-getdown-032234', 'getdown/cat-getdown-011656', 'getdown/cat-getdown-038220', 'getdown/cat-getdown-002646', 'getdown/cat-getdown-001780', 'getdown/cat-getdown-009545', 'getdown/cat-getdown-002160', 'getdown/cat-getdown-001517', 'getdown/cat-getdown-014511', 'getdown/cat-getdown-042294', 'getdown/cat-getdown-001427', 'getdown/cat-getdown-007442', 'getdown/cat-getdown-006345', 'getdown/cat-getdown-015202', 'getdown/cat-getdown-012831', 'getdown/cat-getdown-000245', 'getdown/cat-getdown-009541', 'getdown/cat-getdown-002472', 'getdown/cat-getdown-005909', 'getdown/cat-getdown-000125', 'getdown/cat-getdown-014884', 'getdown/cat-getdown-046619', 'getdown/cat-getdown-008294', 'getdown/cat-getdown-009543', 'getdown/cat-getdown-000050', 'getdown/cat-getdown-008945', 'getdown/cat-getdown-002767', 'getdown/cat-getdown-001967', 'getdown/cat-getdown-005018', 'getdown/cat-getdown-009992', 'getdown/cat-getdown-004035', 'getdown/cat-getdown-002580', 'getdown/cat-getdown-017626', 'getdown/cat-getdown-018091', 'getdown/cat-getdown-009487', 'getdown/cat-getdown-009525', 'getdown/cat-getdown-003698', 'getdown/cat-getdown-006765', 'getdown/cat-getdown-036114', 'getdown/cat-getdown-038184', 'getdown/cat-getdown-000785', 'getdown/cat-getdown-013541', 'getdown/cat-getdown-038223', 'getdown/cat-getdown-009956', 'getdown/cat-getdown-013381', 'getdown/cat-getdown-018172', 'getdown/cat-getdown-000534', 'getdown/cat-getdown-009538', 'getdown/cat-getdown-002750', 'getdown/cat-getdown-013330', 'getdown/cat-getdown-006018', 'getdown/cat-getdown-038329', 'getdown/cat-getdown-002945', 'getdown/cat-getdown-002025', 'getdown/cat-getdown-009524', 'getdown/cat-getdown-002039', 'getdown/cat-getdown-009076', 'getdown/cat-getdown-000311', 'getdown/cat-getdown-011160', 'getdown/cat-getdown-009549', 'getdown/cat-getdown-005472', 'getdown/cat-getdown-005425', 'getdown/cat-getdown-004064', 'getdown/cat-getdown-018891', 'getdown/cat-getdown-002001', 'getdown/cat-getdown-015376', 'getdown/cat-getdown-002448', 'getdown/cat-getdown-004832', 'getdown/cat-getdown-011277', 'getdown/cat-getdown-038390', 'getdown/cat-getdown-046759', 'getdown/cat-getdown-035844', 'getdown/cat-getdown-002020', 'getdown/cat-getdown-001953', 'getdown/cat-getdown-001475', 'getdown/cat-getdown-002403', 'getdown/cat-getdown-005015', 'getdown/cat-getdown-001131', 'getdown/cat-getdown-006303', 'getdown/cat-getdown-001708', 'getdown/cat-getdown-007855', 'getdown/cat-getdown-003699', 'getdown/cat-getdown-001733', 'getdown/cat-getdown-009098', 'getdown/cat-getdown-008159', 'getdown/cat-getdown-010957', 'getdown/cat-getdown-000109', 'getdown/cat-getdown-002858', 'getdown/cat-getdown-010687', 'getdown/cat-getdown-020431', 'getdown/cat-getdown-012489', 'getdown/cat-getdown-002819', 'getdown/cat-getdown-001685', 'getdown/cat-getdown-005275', 'getdown/cat-getdown-000954', 'getdown/cat-getdown-009746', 'getdown/cat-getdown-010099', 'getdown/cat-getdown-012862', 'getdown/cat-getdown-005278', 'getdown/cat-getdown-009605', 'getdown/cat-getdown-002442', 'getdown/cat-getdown-001812', 'getdown/cat-getdown-000462', 'getdown/cat-getdown-011572', 'getdown/cat-getdown-000099', 'getdown/cat-getdown-015362', 'getdown/cat-getdown-018901', 'getdown/cat-getdown-031006', 'getdown/cat-getdown-013883', 'getdown/cat-getdown-002136', 'getdown/cat-getdown-016346', 'getdown/cat-getdown-007798', 'getdown/cat-getdown-006095', 'getdown/cat-getdown-018984', 'getdown/cat-getdown-004587', 'getdown/cat-getdown-001816', 'getdown/cat-getdown-017302', 'getdown/cat-getdown-001542', 'getdown/cat-getdown-038387', 'getdown/cat-getdown-015014', 'getdown/cat-getdown-002137', 'getdown/cat-getdown-001776', 'getdown/cat-getdown-004822', 'getdown/cat-getdown-007174', 'getdown/cat-getdown-015372', 'getdown/cat-getdown-001813', 'getdown/cat-getdown-001368', 'getdown/cat-getdown-001765', 'getdown/cat-getdown-015532', 'getdown/cat-getdown-010792', 'getdown/cat-getdown-034904', 'getdown/cat-getdown-038339', 'getdown/cat-getdown-006209', 'getdown/cat-getdown-004132', 'getdown/cat-getdown-002054', 'getdown/cat-getdown-010005', 'getdown/cat-getdown-021032', 'getdown/cat-getdown-010823', 'getdown/cat-getdown-001912', 'getdown/cat-getdown-001108', 'getdown/cat-getdown-001147', 'getdown/cat-getdown-004034', 'getdown/cat-getdown-000485', 'getdown/cat-getdown-001371', 'getdown/cat-getdown-002158', 'getdown/cat-getdown-009047', 'getdown/cat-getdown-014534', 'getdown/cat-getdown-042814', 'getdown/cat-getdown-000123', 'getdown/cat-getdown-007834', 'getdown/cat-getdown-015381', 'getdown/cat-getdown-006861', 'getdown/cat-getdown-035934', 'getdown/cat-getdown-038423', 'getdown/cat-getdown-015365', 'getdown/cat-getdown-038034', 'getdown/cat-getdown-008405', 'getdown/cat-getdown-000414', 'getdown/cat-getdown-006208', 'getdown/cat-getdown-038053', 'getdown/cat-getdown-004928', 'getdown/cat-getdown-002469', 'getdown/cat-getdown-038331', 'getdown/cat-getdown-007208', 'getdown/cat-getdown-035654', 'getdown/cat-getdown-000236', 'getdown/cat-getdown-009529', 'getdown/cat-getdown-005984', 'getdown/cat-getdown-009528', 'getdown/cat-getdown-000035', 'getdown/cat-getdown-010728', 'getdown/cat-getdown-038649', 'getdown/cat-getdown-007094', 'getdown/cat-getdown-017091', 'getdown/cat-getdown-002576', 'getdown/cat-getdown-009535', 'getdown/cat-getdown-007796', 'getdown/cat-getdown-000241', 'getdown/cat-getdown-030986', 'getdown/cat-getdown-000276', 'getdown/cat-getdown-046659', 'getdown/cat-getdown-002525', 'getdown/cat-getdown-014312', 'getdown/cat-getdown-038251', 'getdown/cat-getdown-046709', 'getdown/cat-getdown-011338', 'getdown/cat-getdown-001909', 'getdown/cat-getdown-008289', 'getdown/cat-getdown-000640', 'getdown/cat-getdown-012841', 'getdown/cat-getdown-002384', 'getdown/cat-getdown-006685', 'getdown/cat-getdown-002797', 'getdown/cat-getdown-013391', 'getdown/cat-getdown-006175', 'getdown/cat-getdown-000495', 'getdown/cat-getdown-002753', 'getdown/cat-getdown-002712', 'getdown/cat-getdown-007793', 'getdown/cat-getdown-002643', 'getdown/cat-getdown-002124', 'getdown/cat-getdown-000132', 'getdown/cat-getdown-003157', 'getdown/cat-getdown-010694', 'getdown/cat-getdown-009646', 'getdown/cat-getdown-038316']}\n"
     ]
    }
   ],
   "source": [
    "classes = {}\n",
    "directory = './'\n",
    "\n",
    "for subdir in os.listdir(directory):        \n",
    "    if not subdir.startswith('_'):\n",
    "        tmp = []                \n",
    "        # clssInd[subdir] = ind_cnt        \n",
    "        for file_name in os.listdir(subdir):          \n",
    "            if not file_name.endswith('mp4'):\n",
    "                class_name = subdir            \n",
    "                class_index = clssInd[class_name]                      \n",
    "                target_path = subdir + \"/\" + file_name\n",
    "                tmp.append(target_path)            \n",
    "    else:\n",
    "        continue\n",
    "    classes[subdir] = tmp\n",
    "\n",
    "    print(classes)"
   ]
  },
  {
   "cell_type": "code",
   "execution_count": 6,
   "metadata": {},
   "outputs": [
    {
     "output_type": "stream",
     "name": "stdout",
     "text": [
      "walkrun : 1208, train: 966, val 242\n",
      "feetup : 569, train: 455, val 114\n",
      "tailing : 1221, train: 976, val 245\n",
      "bodyscratch : 229, train: 183, val 46\n",
      "lying : 810, train: 648, val 162\n",
      "sit : 874, train: 699, val 175\n",
      "sitdown : 205, train: 164, val 41\n",
      "footpush : 186, train: 148, val 38\n",
      "armstretch : 451, train: 360, val 91\n",
      "laydown : 379, train: 303, val 76\n",
      "turn : 362, train: 289, val 73\n",
      "grooming : 748, train: 598, val 150\n",
      "bodylower : 1108, train: 886, val 222\n",
      "bodyshake : 305, train: 244, val 61\n",
      "taillow : 184, train: 147, val 37\n",
      "roll : 151, train: 120, val 31\n",
      "arch : 28, train: 22, val 6\n",
      "footup : 619, train: 495, val 124\n",
      "mounting : 92, train: 73, val 19\n",
      "heading : 378, train: 302, val 76\n",
      "getdown : 268, train: 214, val 54\n",
      "10375\n"
     ]
    }
   ],
   "source": [
    "# MAXCAP = 300\n",
    "s_rate1 = 0.8\n",
    "# s_rate2 = 0.9\n",
    "trainRaw = {}\n",
    "valRaw = {}          \n",
    "arr = []\n",
    "missarr = []\n",
    "total = 0\n",
    "\n",
    "for clss in classes:               \n",
    "    cls_len = len(classes[clss])\n",
    "    # cls_len = min(len(classes[clss]), MAXCAP)            \n",
    "    s_point1 = int(s_rate1 * cls_len)     \n",
    "    # s_point2 = int(s_rate2 * cls_len)         \n",
    "    # for item in classes[clss]:                \n",
    "        # if len(glob.glob(item + \"/*.jpg\")) > 9:            \n",
    "        #     _list.append(\"{} {} {}\".format(item, len(glob.glob(item + \"/*jpg\")), clssInd[clss]))            \n",
    "    _list = [item + \" {} {}\".format(len(glob.glob(item + \"/*jpg\")), clssInd[clss]) for item in classes[clss]]\n",
    "    # if (len(_list) > MAXCAP):\n",
    "    #     _list.sort(key=lambda x: int(x.split(' ')[1]))    \n",
    "\n",
    "\n",
    "    # _list = _list[:MAXCAP]       \n",
    "    random.shuffle(_list)\n",
    "    trainRaw[clss] = _list[:s_point1]\n",
    "    valRaw[clss] = _list[s_point1:]     \n",
    "    # testRaw[clss] = _list[s_point2:cls_len]     \n",
    "    # couting each classes\n",
    "\n",
    "    arr.append((clss, cls_len))\n",
    "    total += cls_len\n",
    "    print('{} : {}, train: {}, val {}'.format(clss, len(classes[clss]), len(trainRaw[clss]), len(valRaw[clss])))         \n",
    "    # print('{},{}\\n'.format(clss, len(classes[clss])))         \n",
    "\n",
    "# print(arr)\n",
    "print(total)"
   ]
  },
  {
   "cell_type": "code",
   "execution_count": null,
   "metadata": {},
   "outputs": [],
   "source": [
    "len(classes)"
   ]
  },
  {
   "cell_type": "code",
   "execution_count": 7,
   "metadata": {},
   "outputs": [],
   "source": [
    "with open('train_refined_10375.txt', 'w') as f:\n",
    "    for clss in trainRaw:\n",
    "        for item in trainRaw[clss]:\n",
    "            f.write(\"%s\\n\" % item)"
   ]
  },
  {
   "cell_type": "code",
   "execution_count": 8,
   "metadata": {},
   "outputs": [],
   "source": [
    "with open('val_refined_10375.txt', 'w') as f:\n",
    "    for clss in valRaw:\n",
    "        for item in valRaw[clss]:\n",
    "            f.write(\"%s\\n\" % item)"
   ]
  },
  {
   "cell_type": "code",
   "execution_count": null,
   "metadata": {},
   "outputs": [],
   "source": [
    "'''\n",
    "with open('clssInd.txt', 'w') as f:\n",
    "    for clss in classInd:        \n",
    "        f.write(\"{} {}\\n\".format(clss, classInd[clss]))\n",
    "'''"
   ]
  },
  {
   "cell_type": "code",
   "execution_count": null,
   "metadata": {},
   "outputs": [],
   "source": []
  }
 ]
}