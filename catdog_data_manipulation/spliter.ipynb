{
 "metadata": {
  "language_info": {
   "codemirror_mode": {
    "name": "ipython",
    "version": 3
   },
   "file_extension": ".py",
   "mimetype": "text/x-python",
   "name": "python",
   "nbconvert_exporter": "python",
   "pygments_lexer": "ipython3",
   "version": "3.7.9-final"
  },
  "orig_nbformat": 2,
  "kernelspec": {
   "name": "python3",
   "display_name": "Python 3"
  }
 },
 "nbformat": 4,
 "nbformat_minor": 2,
 "cells": [
  {
   "cell_type": "code",
   "execution_count": 1,
   "metadata": {},
   "outputs": [],
   "source": [
    "import glob\n",
    "import os\n",
    "import json\n",
    "from os import walk\n",
    "import re\n",
    "import random\n",
    "from subprocess import call"
   ]
  },
  {
   "cell_type": "code",
   "execution_count": 2,
   "metadata": {},
   "outputs": [
    {
     "output_type": "stream",
     "name": "stdout",
     "text": [
      "{'sit': '0', 'feetup': '1', 'bodylower': '2', 'laydown': '3', 'lying': '4', 'bodyshake': '5', 'grooming': '6', 'turn': '7', 'tailing': '8', 'sitdown': '9', 'footup': '10', 'armstretch': '11', 'mounting': '12', 'taillow': '13', 'heading': '14', 'arch': '15', 'roll': '16', 'getdown': '17', 'footpush': '18', 'walkrun': '19', 'bodyscratch': '20'}\n"
     ]
    }
   ],
   "source": [
    "clssInd = {}\n",
    "with open('clssInd.txt', 'r') as fin:    \n",
    "    test_list = [row.strip() for row in fin]    \n",
    "for clss in test_list:\n",
    "    # print(clss.split(' '))\n",
    "    [clssName, index] = clss.split(' ')\n",
    "    clssInd[clssName] = index\n",
    "print(clssInd)"
   ]
  },
  {
   "cell_type": "code",
   "execution_count": 3,
   "metadata": {},
   "outputs": [],
   "source": [
    "\n",
    "classes = {}\n",
    "directory = '/home/oem/data/catdog'\n",
    "for subdir in os.listdir(directory):    \n",
    "    if subdir.startswith(\"2020\"):\n",
    "        dir = os.path.join(directory, subdir)\n",
    "        for file_name in os.listdir(dir):    \n",
    "            if file_name.endswith(\"mp4\"):\n",
    "                class_name = file_name.split('-')[1]                \n",
    "                class_index = clssInd[class_name]\n",
    "                if class_name not in classes.keys():\n",
    "                    classes[class_name] = []\n",
    "                classes[class_name].append(subdir + \"/\" + file_name[:-4])                            \n",
    "                dir = subdir + \"/\" + file_name[:-4]\n",
    "                       \n",
    "    else:\n",
    "        continue"
   ]
  },
  {
   "cell_type": "code",
   "execution_count": 20,
   "metadata": {
    "tags": []
   },
   "outputs": [
    {
     "output_type": "stream",
     "name": "stdout",
     "text": [
      "4710\n"
     ]
    }
   ],
   "source": [
    "MAXCAP = 300\n",
    "s_rate1 = 0.8\n",
    "trainRaw = {}\n",
    "valRaw = {}          \n",
    "testRaw = {}  \n",
    "arr = []\n",
    "missarr = []\n",
    "total = 0\n",
    "\n",
    "for clss in classes:               \n",
    "\n",
    "    # cls_len = len(classes[clss])\n",
    "    cls_len = min(len(classes[clss]), MAXCAP)            \n",
    "    s_point1 = int(s_rate1 * cls_len)     \n",
    "    # s_point2 = int(s_rate2 * cls_len)     \n",
    "    \n",
    "    # for item in classes[clss]:                \n",
    "    #     if len(glob.glob(item + \"/*.jpg\")) == 0:            \n",
    "    #         missarr.append(item)    \n",
    "    list = [item + \" {} {}\".format(len(glob.glob(item + \"/*jpg\")), clssInd[clss]) for item in classes[clss]]\n",
    "    \n",
    "    # list.sort(key=lambda x: x.split(' ')[1], reverse=True)\n",
    "    \n",
    "    \n",
    "    list.sort(key=lambda x: int(x.split(' ')[1]))    \n",
    "\n",
    "    trainRaw[clss] = list[:s_point1]\n",
    "    valRaw[clss] = list[s_point1:MAXCAP]     \n",
    "    # testRaw[clss] = list[s_point2:cls_len]     \n",
    "\n",
    "    # couting each classes    \n",
    "    arr.append((clss, cls_len))    \n",
    "    total += cls_len\n",
    "    # print('{} : {}, train: {}, val {}'.format(clss, len(classes[clss]), len(trainRaw[clss]), len(valRaw[clss])))         \n",
    "# print(arr)\n",
    "print(total)"
   ]
  },
  {
   "cell_type": "code",
   "execution_count": null,
   "metadata": {},
   "outputs": [],
   "source": []
  }
 ]
}