{
 "metadata": {
  "language_info": {
   "codemirror_mode": {
    "name": "ipython",
    "version": 3
   },
   "file_extension": ".py",
   "mimetype": "text/x-python",
   "name": "python",
   "nbconvert_exporter": "python",
   "pygments_lexer": "ipython3",
   "version": "3.7.9-final"
  },
  "orig_nbformat": 2,
  "kernelspec": {
   "name": "python3",
   "display_name": "Python 3"
  }
 },
 "nbformat": 4,
 "nbformat_minor": 2,
 "cells": [
  {
   "cell_type": "code",
   "execution_count": 1,
   "metadata": {},
   "outputs": [],
   "source": [
    "import glob\n",
    "import os\n",
    "import json\n",
    "from os import walk\n",
    "import re\n",
    "import random\n",
    "from subprocess import call\n",
    " "
   ]
  },
  {
   "cell_type": "code",
   "execution_count": 2,
   "metadata": {},
   "outputs": [],
   "source": [
    "\n",
    "clssInd = {}"
   ]
  },
  {
   "cell_type": "code",
   "execution_count": 3,
   "metadata": {},
   "outputs": [
    {
     "output_type": "stream",
     "name": "stdout",
     "text": [
      "{'sit': '0', 'feetup': '1', 'bodylower': '2', 'laydown': '3', 'lying': '4', 'bodyshake': '5', 'grooming': '6', 'turn': '7', 'tailing': '8', 'sitdown': '9', 'footup': '10', 'armstretch': '11', 'mounting': '12', 'taillow': '13', 'heading': '14', 'arch': '15', 'roll': '16', 'getdown': '17', 'footpush': '18', 'walkrun': '19', 'bodyscratch': '20'}\n"
     ]
    }
   ],
   "source": [
    "with open('clssInd.txt', 'r') as fin:    \n",
    "    test_list = [row.strip() for row in fin]    \n",
    "    for clss in test_list:\n",
    "        # print(clss.split(' '))\n",
    "        [clssName, index] = clss.split(' ')\n",
    "        clssInd[clssName] = index\n",
    "    print(clssInd)\n"
   ]
  },
  {
   "cell_type": "code",
   "execution_count": 4,
   "metadata": {
    "tags": []
   },
   "outputs": [],
   "source": [
    "rawframe =[]\n",
    "classes = {}\n",
    "directory = '/home/oem/data/catdog'\n",
    "for subdir in os.listdir(directory):    \n",
    "    if subdir.startswith(\"2020\"):\n",
    "        dir = os.path.join(directory, subdir)\n",
    "        for file_name in os.listdir(dir):    \n",
    "            if file_name.endswith(\"mp4\"):\n",
    "                class_name = file_name.split('-')[1]                \n",
    "                class_index = clssInd[class_name]\n",
    "                if class_name not in classes.keys():\n",
    "                    classes[class_name] = []\n",
    "                classes[class_name].append(subdir + \"/\" + file_name[:-4])                            \n",
    "                dir = subdir + \"/\" + file_name[:-4]\n",
    "                rawframe.append(dir)                \n",
    "                \n",
    "                if not os.path.exists(dir):                                        \n",
    "                    os.mkdir(dir)                \n",
    "                    src = os.path.join(subdir, file_name)                \n",
    "                    dest = os.path.join(dir, 'img_%05d.jpg')                      \n",
    "                    print(\"extracting {}\".format(src))              \n",
    "                    call([\"ffmpeg\", \"-i\", src, \"-threads\", \"16\", dest])                   \n",
    "    else:\n",
    "        continue"
   ]
  },
  {
   "cell_type": "code",
   "execution_count": 5,
   "metadata": {
    "tags": []
   },
   "outputs": [],
   "source": [
    "# rawframe = []\n",
    "\n",
    "# for subdir, dirs, files in os.walk('./'):\n",
    "#     if len(re.findall('2020', subdir)) is not 0:          \n",
    "        \n",
    "#         for file_name in files:\n",
    "#             print(file_name)\n",
    "#             if file_name[-1] == '4':                            \n",
    "#                 class_name = file_name.split('-')[1]\n",
    "#                 class_index = clssInd[class_name]\n",
    "#                 if class_name not in classes.keys():\n",
    "#                     classes[class_name] = []\n",
    "#                 classes[class_name].append(subdir + \"/\" + file_name)                            \n",
    "#                 dir = subdir[2:] + \"/\" + file_name[:-4]\n",
    "#                 rawframe.append(dir + \" \" + class_index)                \n",
    "\n",
    "#                 if the dir does not exist, create it.\n",
    "#                 if not os.path.exists(dir):                                        \n",
    "#                     os.mkdir(dir)                \n",
    "#                     src = os.path.join(subdir[2:], file_name)                \n",
    "#                     dest = os.path.join(dir, 'img_%05d.jpg')  \n",
    "#                     print(\"extracting {}\".format(src))              \n",
    "#                     call([\"ffmpeg\", \"-i\", src, \"-threads\", \"16\", dest])                   \n",
    "                "
   ]
  },
  {
   "cell_type": "code",
   "execution_count": 7,
   "metadata": {
    "tags": []
   },
   "outputs": [
    {
     "output_type": "error",
     "ename": "NameError",
     "evalue": "name 'MAXCAP' is not defined",
     "traceback": [
      "\u001b[0;31m---------------------------------------------------------------------------\u001b[0m",
      "\u001b[0;31mNameError\u001b[0m                                 Traceback (most recent call last)",
      "\u001b[0;32m<ipython-input-7-1b42ca95108c>\u001b[0m in \u001b[0;36m<module>\u001b[0;34m\u001b[0m\n\u001b[1;32m     22\u001b[0m \u001b[0;34m\u001b[0m\u001b[0m\n\u001b[1;32m     23\u001b[0m \u001b[0;34m\u001b[0m\u001b[0m\n\u001b[0;32m---> 24\u001b[0;31m     \u001b[0mlist\u001b[0m \u001b[0;34m=\u001b[0m \u001b[0mlist\u001b[0m\u001b[0;34m[\u001b[0m\u001b[0;34m:\u001b[0m\u001b[0mMAXCAP\u001b[0m\u001b[0;34m]\u001b[0m\u001b[0;34m\u001b[0m\u001b[0;34m\u001b[0m\u001b[0m\n\u001b[0m\u001b[1;32m     25\u001b[0m     \u001b[0mrandom\u001b[0m\u001b[0;34m.\u001b[0m\u001b[0mshuffle\u001b[0m\u001b[0;34m(\u001b[0m\u001b[0mlist\u001b[0m\u001b[0;34m)\u001b[0m\u001b[0;34m\u001b[0m\u001b[0;34m\u001b[0m\u001b[0m\n\u001b[1;32m     26\u001b[0m     \u001b[0mtrainRaw\u001b[0m\u001b[0;34m[\u001b[0m\u001b[0mclss\u001b[0m\u001b[0;34m]\u001b[0m \u001b[0;34m=\u001b[0m \u001b[0mlist\u001b[0m\u001b[0;34m[\u001b[0m\u001b[0;34m:\u001b[0m\u001b[0ms_point1\u001b[0m\u001b[0;34m]\u001b[0m\u001b[0;34m\u001b[0m\u001b[0;34m\u001b[0m\u001b[0m\n",
      "\u001b[0;31mNameError\u001b[0m: name 'MAXCAP' is not defined"
     ]
    }
   ],
   "source": [
    "# MAXCAP = 300\n",
    "s_rate1 = 0.8\n",
    "# s_rate2 = 0.9\n",
    "trainRaw = {}\n",
    "valRaw = {}          \n",
    "arr = []\n",
    "missarr = []\n",
    "total = 0\n",
    "\n",
    "for clss in classes:               \n",
    "    cls_len = len(classes[clss])\n",
    "    # cls_len = min(len(classes[clss]), MAXCAP)            \n",
    "    s_point1 = int(s_rate1 * cls_len)     \n",
    "    # s_point2 = int(s_rate2 * cls_len)     \n",
    "    \n",
    "    for item in classes[clss]:                \n",
    "        if len(glob.glob(item + \"/*.jpg\")) == 0:            \n",
    "            missarr.append(item)    \n",
    "    list = [item + \" {} {}\".format(len(glob.glob(item + \"/*jpg\")), clssInd[clss]) for item in classes[clss]]\n",
    "    # if (len(list) > MAXCAP):\n",
    "    #     list.sort(key=lambda x: int(x.split(' ')[1]))    \n",
    "\n",
    "\n",
    "    # list = list[:MAXCAP]       \n",
    "    random.shuffle(list)\n",
    "    trainRaw[clss] = list[:s_point1]\n",
    "    valRaw[clss] = list[s_point1:]     \n",
    "    # testRaw[clss] = list[s_point2:cls_len]     \n",
    "    # couting each classes\n",
    "\n",
    "    arr.append((clss, cls_len))\n",
    "    total += cls_len\n",
    "    # print('{} : {}, train: {}, val {}'.format(clss, len(classes[clss]), len(trainRaw[clss]), len(valRaw[clss])))         \n",
    "    print('{} {}'.format(clss, len(classes[clss])))         \n",
    "# print(arr)\n",
    "print(total)\n"
   ]
  },
  {
   "cell_type": "code",
   "execution_count": 7,
   "metadata": {},
   "outputs": [
    {
     "output_type": "execute_result",
     "data": {
      "text/plain": [
       "0"
      ]
     },
     "metadata": {},
     "execution_count": 7
    }
   ],
   "source": [
    "len(missarr)"
   ]
  },
  {
   "cell_type": "code",
   "execution_count": 8,
   "metadata": {
    "tags": []
   },
   "outputs": [],
   "source": [
    "# for item in missarr:\n",
    "#     src = item + \".mp4\"\n",
    "#     dest = src[:-4] + '/img_%05d.jpg'                                          \n",
    "#     print(\"extracting {}\".format(src))              \n",
    "#     call([\"ffmpeg\", \"-i\", src, \"-threads\", \"32\", dest])         "
   ]
  },
  {
   "cell_type": "code",
   "execution_count": 9,
   "metadata": {},
   "outputs": [],
   "source": [
    "with open('train_short300.txt', 'w') as f:\n",
    "    for clss in trainRaw:\n",
    "        for item in trainRaw[clss]:\n",
    "            f.write(\"%s\\n\" % item)"
   ]
  },
  {
   "cell_type": "code",
   "execution_count": 10,
   "metadata": {},
   "outputs": [],
   "source": [
    "with open('val_short300.txt', 'w') as f:\n",
    "    for clss in valRaw:\n",
    "        for item in valRaw[clss]:\n",
    "            f.write(\"%s\\n\" % item)"
   ]
  },
  {
   "cell_type": "code",
   "execution_count": 10,
   "metadata": {},
   "outputs": [],
   "source": [
    "\n"
   ]
  }
 ]
}