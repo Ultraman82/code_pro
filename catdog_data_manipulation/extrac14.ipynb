{
 "metadata": {
  "language_info": {
   "codemirror_mode": {
    "name": "ipython",
    "version": 3
   },
   "file_extension": ".py",
   "mimetype": "text/x-python",
   "name": "python",
   "nbconvert_exporter": "python",
   "pygments_lexer": "ipython3",
   "version": "3.7.6-final"
  },
  "orig_nbformat": 2,
  "kernelspec": {
   "name": "python3",
   "display_name": "Python 3",
   "language": "python"
  }
 },
 "nbformat": 4,
 "nbformat_minor": 2,
 "cells": [
  {
   "cell_type": "code",
   "execution_count": 2,
   "metadata": {},
   "outputs": [],
   "source": [
    "import glob\n",
    "import os\n",
    "import json\n",
    "from os import walk\n",
    "import re\n",
    "import random\n",
    "from subprocess import call\n",
    " "
   ]
  },
  {
   "cell_type": "code",
   "execution_count": 1,
   "metadata": {},
   "outputs": [],
   "source": [
    "\n",
    "clssInd = {}"
   ]
  },
  {
   "cell_type": "code",
   "execution_count": 3,
   "metadata": {},
   "outputs": [
    {
     "output_type": "stream",
     "name": "stdout",
     "text": [
      "{'footpush': '0', 'feetup': '1', 'bodylower': '2', 'lying': '3', 'bodyshake': '4', 'grooming': '5', 'turn': '6', 'tailing': '7', 'sitdown': '8', 'footup': '9', 'heading': '10', 'arch': '11', 'roll': '12', 'getdown': '13'}\n"
     ]
    }
   ],
   "source": [
    "with open('clssInd14.txt', 'r') as fin:    \n",
    "    test_list = [row.strip() for row in fin]    \n",
    "    for clss in test_list:\n",
    "        # print(clss.split(' '))\n",
    "        [clssName, index] = clss.split(' ')\n",
    "        clssInd[clssName] = index\n",
    "    print(clssInd)\n"
   ]
  },
  {
   "cell_type": "code",
   "execution_count": 4,
   "metadata": {
    "tags": []
   },
   "outputs": [],
   "source": [
    "# rawframe =[]\n",
    "classes = {}\n",
    "directory = '/home/oem/data/catdog'\n",
    "for subdir in os.listdir(directory):    \n",
    "    if subdir.startswith(\"2020\"):\n",
    "        dir = os.path.join(directory, subdir)\n",
    "        for file_name in os.listdir(dir):    \n",
    "            if file_name.endswith(\"mp4\"):\n",
    "                class_name = file_name.split('-')[1]                \n",
    "                if class_name in clssInd.keys():\n",
    "                    if class_name not in classes.keys():\n",
    "                        classes[class_name] = []\n",
    "                    class_index = clssInd[class_name]                                            # \n",
    "                    classes[class_name].append(subdir + \"/\" + file_name[:-4])\n",
    "                    dir = subdir + \"/\" + file_name[:-4]\n",
    "                \n",
    "                \n",
    "                          \n",
    "                \n",
    "                # if not os.path.exists(dir):                                        \n",
    "                #     os.mkdir(dir)                \n",
    "                #     src = os.path.join(subdir, file_name)                \n",
    "                #     dest = os.path.join(dir, 'img_%05d.jpg')                      \n",
    "                #     print(\"extracting {}\".format(src))              \n",
    "                #     call([\"ffmpeg\", \"-i\", src, \"-threads\", \"16\", dest])                   \n",
    "    else:\n",
    "        continue"
   ]
  },
  {
   "cell_type": "code",
   "execution_count": 5,
   "metadata": {
    "tags": []
   },
   "outputs": [],
   "source": [
    "# rawframe = []\n",
    "\n",
    "# for subdir, dirs, files in os.walk('./'):\n",
    "#     if len(re.findall('2020', subdir)) is not 0:          \n",
    "        \n",
    "#         for file_name in files:\n",
    "#             print(file_name)\n",
    "#             if file_name[-1] == '4':                            \n",
    "#                 class_name = file_name.split('-')[1]\n",
    "#                 class_index = clssInd[class_name]\n",
    "#                 if class_name not in classes.keys():\n",
    "#                     classes[class_name] = []\n",
    "#                 classes[class_name].append(subdir + \"/\" + file_name)                            \n",
    "#                 dir = subdir[2:] + \"/\" + file_name[:-4]\n",
    "#                 rawframe.append(dir + \" \" + class_index)                \n",
    "\n",
    "#                 if the dir does not exist, create it.\n",
    "#                 if not os.path.exists(dir):                                        \n",
    "#                     os.mkdir(dir)                \n",
    "#                     src = os.path.join(subdir[2:], file_name)                \n",
    "#                     dest = os.path.join(dir, 'img_%05d.jpg')  \n",
    "#                     print(\"extracting {}\".format(src))              \n",
    "#                     call([\"ffmpeg\", \"-i\", src, \"-threads\", \"16\", dest])                   \n",
    "                "
   ]
  },
  {
   "cell_type": "code",
   "execution_count": 11,
   "metadata": {
    "tags": []
   },
   "outputs": [
    {
     "output_type": "stream",
     "name": "stdout",
     "text": [
      "bodylower,1156\n",
      "\n",
      "feetup,419\n",
      "\n",
      "getdown,169\n",
      "\n",
      "grooming,812\n",
      "\n",
      "turn,266\n",
      "\n",
      "lying,663\n",
      "\n",
      "footup,457\n",
      "\n",
      "tailing,948\n",
      "\n",
      "sitdown,206\n",
      "\n",
      "heading,283\n",
      "\n",
      "bodyshake,219\n",
      "\n",
      "roll,99\n",
      "\n",
      "footpush,127\n",
      "\n",
      "arch,25\n",
      "\n",
      "5849\n"
     ]
    }
   ],
   "source": [
    "# MAXCAP = 300\n",
    "s_rate1 = 0.8\n",
    "# s_rate2 = 0.9\n",
    "trainRaw = {}\n",
    "valRaw = {}          \n",
    "arr = []\n",
    "missarr = []\n",
    "total = 0\n",
    "\n",
    "for clss in classes:               \n",
    "    cls_len = len(classes[clss])\n",
    "    # cls_len = min(len(classes[clss]), MAXCAP)            \n",
    "    s_point1 = int(s_rate1 * cls_len)     \n",
    "    # s_point2 = int(s_rate2 * cls_len)     \n",
    "    \n",
    "    for item in classes[clss]:                \n",
    "        if len(glob.glob(item + \"/*.jpg\")) == 0:            \n",
    "            missarr.append(item)    \n",
    "    list = [item + \" {} {}\".format(len(glob.glob(item + \"/*jpg\")), clssInd[clss]) for item in classes[clss]]\n",
    "    # if (len(list) > MAXCAP):\n",
    "    #     list.sort(key=lambda x: int(x.split(' ')[1]))    \n",
    "\n",
    "\n",
    "    # list = list[:MAXCAP]       \n",
    "    random.shuffle(list)\n",
    "    trainRaw[clss] = list[:s_point1]\n",
    "    valRaw[clss] = list[s_point1:]     \n",
    "    # testRaw[clss] = list[s_point2:cls_len]     \n",
    "    # couting each classes\n",
    "\n",
    "    arr.append((clss, cls_len))\n",
    "    total += cls_len\n",
    "    # print('{} : {}, train: {}, val {}'.format(clss, len(classes[clss]), len(trainRaw[clss]), len(valRaw[clss])))         \n",
    "    print('{},{}\\n'.format(clss, len(classes[clss])))         \n",
    "# print(arr)\n",
    "print(total)\n"
   ]
  },
  {
   "cell_type": "code",
   "execution_count": 7,
   "metadata": {},
   "outputs": [
    {
     "output_type": "execute_result",
     "data": {
      "text/plain": [
       "0"
      ]
     },
     "metadata": {},
     "execution_count": 7
    }
   ],
   "source": [
    "len(missarr)"
   ]
  },
  {
   "cell_type": "code",
   "execution_count": 8,
   "metadata": {
    "tags": []
   },
   "outputs": [],
   "source": [
    "# for item in missarr:\n",
    "#     src = item + \".mp4\"\n",
    "#     dest = src[:-4] + '/img_%05d.jpg'                                          \n",
    "#     print(\"extracting {}\".format(src))              \n",
    "#     call([\"ffmpeg\", \"-i\", src, \"-threads\", \"32\", dest])         "
   ]
  },
  {
   "cell_type": "code",
   "execution_count": 9,
   "metadata": {},
   "outputs": [],
   "source": [
    "with open('train_8988_14cls.txt', 'w') as f:\n",
    "    for clss in trainRaw:\n",
    "        for item in trainRaw[clss]:\n",
    "            f.write(\"%s\\n\" % item)"
   ]
  },
  {
   "cell_type": "code",
   "execution_count": 10,
   "metadata": {},
   "outputs": [],
   "source": [
    "with open('val_8988_14cls.txt', 'w') as f:\n",
    "    for clss in valRaw:\n",
    "        for item in valRaw[clss]:\n",
    "            f.write(\"%s\\n\" % item)"
   ]
  },
  {
   "cell_type": "code",
   "execution_count": 10,
   "metadata": {},
   "outputs": [],
   "source": [
    "\n"
   ]
  }
 ]
}