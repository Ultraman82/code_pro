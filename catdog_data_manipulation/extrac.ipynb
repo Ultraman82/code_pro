{
 "metadata": {
  "language_info": {
   "codemirror_mode": {
    "name": "ipython",
    "version": 3
   },
   "file_extension": ".py",
   "mimetype": "text/x-python",
   "name": "python",
   "nbconvert_exporter": "python",
   "pygments_lexer": "ipython3",
   "version": "3.7.6-final"
  },
  "orig_nbformat": 2,
  "kernelspec": {
   "name": "python3",
   "display_name": "Python 3",
   "language": "python"
  }
 },
 "nbformat": 4,
 "nbformat_minor": 2,
 "cells": [
  {
   "cell_type": "code",
   "execution_count": 106,
   "metadata": {},
   "outputs": [],
   "source": [
    "import glob\n",
    "import os\n",
    "import json\n",
    "from os import walk\n",
    "import re\n",
    "import random\n",
    "from subprocess import call\n",
    " "
   ]
  },
  {
   "cell_type": "code",
   "execution_count": 107,
   "metadata": {},
   "outputs": [],
   "source": [
    "\n",
    "clssInd = {}"
   ]
  },
  {
   "cell_type": "code",
   "execution_count": 108,
   "metadata": {},
   "outputs": [
    {
     "output_type": "stream",
     "name": "stdout",
     "text": [
      "{'sit': '0', 'feetup': '1', 'bodylower': '2', 'laydown': '3', 'lying': '4', 'bodyshake': '5', 'grooming': '6', 'turn': '7', 'tailing': '8', 'sitdown': '9', 'footup': '10', 'armstretch': '11', 'mounting': '12', 'taillow': '13', 'heading': '14', 'arch': '15', 'roll': '16', 'getdown': '17', 'footpush': '18', 'walkrun': '19', 'bodyscratch': '20'}\n"
     ]
    }
   ],
   "source": [
    "with open('clssInd.txt', 'r') as fin:    \n",
    "    test_list = [row.strip() for row in fin]    \n",
    "    for clss in test_list:\n",
    "        # print(clss.split(' '))\n",
    "        [clssName, index] = clss.split(' ')\n",
    "        clssInd[clssName] = index\n",
    "\n",
    "print(clssInd)\n"
   ]
  },
  {
   "cell_type": "code",
   "execution_count": 109,
   "metadata": {
    "tags": []
   },
   "outputs": [],
   "source": [
    "\n",
    "                          \n",
    "                \n",
    "                # if not os.path.exists(dir):                                        \n",
    "                #     os.mkdir(dir)                \n",
    "                #     src = os.path.join(subdir, file_name)                \n",
    "                #     dest = os.path.join(dir, 'img_%05d.jpg')                      \n",
    "                #     print(\"extracting {}\".format(src))              \n",
    "                #     call([\"ffmpeg\", \"-i\", src, \"-threads\", \"16\", dest])                   \n",
    "#    else:\n",
    "#        continue"
   ]
  },
  {
   "cell_type": "code",
   "execution_count": 110,
   "metadata": {
    "tags": []
   },
   "outputs": [],
   "source": [
    "#rawframe = []\n",
    "\n",
    "#for subdir, dirs, files in os.walk('./'):\n",
    "    #if len(re.findall('2020', subdir)) is not 0:\n",
    "#        for file_name in files:\n",
    "#            name, ext = os.path.splitext(file_name)\n",
    "#            class_name = name.split('-')[1]\n",
    "#            class_index = clssInd[class_name]\n",
    "\n",
    "            #print(class_name)\n",
    "\n",
    "#            if class_name not in classes.keys():\n",
    "#                classes[class_name] = []\n",
    "#                classes[class_name].append(subdir + \"/\" + file_name)       \n",
    "#                dir = subdir[2:] + \"/\" + file_name[:-4]\n",
    "#                rawframe.append(dir + \" \" + class_index) \n",
    "\n",
    "                #if the dir does not exist, create it.\n",
    "#                if not os.path.exists(dir):     \n",
    "#                    os.mkdir(dir)                \n",
    "#                    src = os.path.join(subdir[2:], file_name)                \n",
    "#                    dest = os.path.join(dir, 'img_%05d.jpg')  \n",
    "#                    print(\"extracting {}\".format(src))              \n",
    "#                    call([\"ffmpeg\", \"-i\", src, \"-threads\", \"16\", dest])                   \n",
    "                "
   ]
  },
  {
   "cell_type": "code",
   "execution_count": 111,
   "metadata": {
    "tags": []
   },
   "outputs": [],
   "source": [
    "#---------------------pkn--------------------------#\n",
    "\n",
    "mp4_containing_folder = []\n",
    "#json_container = []\n",
    "\n",
    "def search_container(top_folder):\n",
    "    temp = 0\n",
    "    temp1 = 0\n",
    "    try:\n",
    "        file_name = sorted(os.listdir(top_folder))\n",
    "        for i in file_name:\n",
    "            full_name = os.path.join(top_folder, i)\n",
    "            if os.path.isdir(full_name):\n",
    "                search_container(full_name)\n",
    "            else:\n",
    "                mp4_seartch = os.path.splitext(full_name)[-1]\n",
    "                if mp4_seartch == '.mp4':\n",
    "                    mp4_containing_folder.insert(temp, i)\n",
    "                    temp += 1\n",
    "                    \n",
    "                #elif mp4_seartch == '.json':\n",
    "                #    json_container.insert(temp1, full_name)\n",
    "                #    temp += 1\n",
    "                                        \n",
    "    except PermissionError:\n",
    "        pass\n",
    "\n",
    "\n",
    "search_container('/home/oem/data/catdog/')"
   ]
  },
  {
   "cell_type": "code",
   "execution_count": 112,
   "metadata": {
    "tags": []
   },
   "outputs": [
    {
     "output_type": "stream",
     "name": "stdout",
     "text": [
      "13452\n"
     ]
    }
   ],
   "source": [
    "mp4_split = []\n",
    "\n",
    "for i in mp4_containing_folder:\n",
    "    name = os.path.splitext(i)[0]\n",
    "    mp4_split.append(name)\n",
    "\n",
    "print(len(mp4_split))\n",
    "\n",
    "# 여기까지 전체 mp4 리스트 읽어왔고,\n",
    "# 이제 8988_nocap 빼기\n",
    "\n"
   ]
  },
  {
   "cell_type": "code",
   "execution_count": 113,
   "metadata": {
    "tags": []
   },
   "outputs": [
    {
     "output_type": "stream",
     "name": "stdout",
     "text": [
      "laydown,1\n\nlying,1\n\nbodylower,1\n\ngetdown,1\n\nsit,1\n\nfootup,1\n\nfeetup,1\n\narmstretch,1\n\ngrooming,1\n\nturn,1\n\ntailing,1\n\nsitdown,1\n\ntaillow,1\n\nwalkrun,1\n\nheading,1\n\nroll,1\n\nbodyshake,1\n\n17\n"
     ]
    }
   ],
   "source": [
    "# MAXCAP = 300\n",
    "s_rate1 = 0.8\n",
    "# s_rate2 = 0.9\n",
    "trainRaw = {}\n",
    "valRaw = {}          \n",
    "arr = []\n",
    "missarr = []\n",
    "total = 0\n",
    "\n",
    "for clss in classes:               \n",
    "    cls_len = len(classes[clss])\n",
    "    # cls_len = min(len(classes[clss]), MAXCAP)            \n",
    "    s_point1 = int(s_rate1 * cls_len)     \n",
    "    # s_point2 = int(s_rate2 * cls_len)     \n",
    "    \n",
    "    for item in classes[clss]:                \n",
    "        if len(glob.glob(item + \"/*.jpg\")) == 0:            \n",
    "            missarr.append(item)    \n",
    "    list = [item + \" {} {}\".format(len(glob.glob(item + \"/*jpg\")), clssInd[clss]) for item in classes[clss]]\n",
    "    # if (len(list) > MAXCAP):\n",
    "    #     list.sort(key=lambda x: int(x.split(' ')[1]))    \n",
    "\n",
    "\n",
    "    # list = list[:MAXCAP]       \n",
    "    random.shuffle(list)\n",
    "    trainRaw[clss] = list[:s_point1]\n",
    "    valRaw[clss] = list[s_point1:]     \n",
    "    # testRaw[clss] = list[s_point2:cls_len]     \n",
    "    # couting each classes\n",
    "\n",
    "    arr.append((clss, cls_len))\n",
    "    total += cls_len\n",
    "    # print('{} : {}, train: {}, val {}'.format(clss, len(classes[clss]), len(trainRaw[clss]), len(valRaw[clss])))         \n",
    "    print('{},{}\\n'.format(clss, len(classes[clss])))         \n",
    "# print(arr)\n",
    "print(total)\n"
   ]
  },
  {
   "cell_type": "code",
   "execution_count": 114,
   "metadata": {},
   "outputs": [
    {
     "output_type": "execute_result",
     "data": {
      "text/plain": [
       "17"
      ]
     },
     "metadata": {},
     "execution_count": 114
    }
   ],
   "source": [
    "len(missarr)"
   ]
  },
  {
   "cell_type": "code",
   "execution_count": 115,
   "metadata": {
    "tags": []
   },
   "outputs": [],
   "source": [
    "# for item in missarr:\n",
    "#     src = item + \".mp4\"\n",
    "#     dest = src[:-4] + '/img_%05d.jpg'                                          \n",
    "#     print(\"extracting {}\".format(src))              \n",
    "#     call([\"ffmpeg\", \"-i\", src, \"-threads\", \"32\", dest])         "
   ]
  },
  {
   "cell_type": "code",
   "execution_count": 118,
   "metadata": {},
   "outputs": [],
   "source": [
    "with open('train_pkn.txt', 'w') as f:\n",
    "    for clss in trainRaw:\n",
    "        for item in trainRaw[clss]:\n",
    "            f.write(\"%s\\n\" % item)"
   ]
  },
  {
   "cell_type": "code",
   "execution_count": 119,
   "metadata": {},
   "outputs": [],
   "source": [
    "with open('val_pkn.txt', 'w') as f:\n",
    "    for clss in valRaw:\n",
    "        for item in valRaw[clss]:\n",
    "            f.write(\"%s\\n\" % item)"
   ]
  }
 ]
}