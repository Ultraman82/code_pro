{
 "metadata": {
  "language_info": {
   "codemirror_mode": {
    "name": "ipython",
    "version": 3
   },
   "file_extension": ".py",
   "mimetype": "text/x-python",
   "name": "python",
   "nbconvert_exporter": "python",
   "pygments_lexer": "ipython3",
   "version": "3.7.6-final"
  },
  "orig_nbformat": 2,
  "kernelspec": {
   "name": "python3",
   "display_name": "Python 3",
   "language": "python"
  }
 },
 "nbformat": 4,
 "nbformat_minor": 2,
 "cells": [
  {
   "cell_type": "code",
   "execution_count": 56,
   "metadata": {},
   "outputs": [],
   "source": [
    "import csv\n",
    "import glob\n",
    "import os\n",
    "import os.path\n",
    "from subprocess import call\n",
    "from os import walk\n",
    "import json\n",
    "import random"
   ]
  },
  {
   "cell_type": "code",
   "execution_count": 57,
   "metadata": {
    "tags": []
   },
   "outputs": [],
   "source": [
    "rawframe = []\n",
    "emoClassIndex = {'행복/즐거움': 0, '편안/안정': 1, '화남/불쾌': 2, '불안/슬픔': 3, '공격성': 4, '공포': 5}\n",
    "emoClass = {'행복/즐거움': [], '편안/안정': [], '화남/불쾌': [], '불안/슬픔': [], '공격성': [], '공포': []}\n",
    "\n",
    "emo_count1 = 0\n",
    "emo_count2 = 0\n",
    "\n",
    "for subdir, dirs, files in os.walk('./'):\n",
    "    # json 읽어오기    \n",
    "    if len(subdir) > 2 and subdir[2] == '2':                           \n",
    "        for file_name in files:\n",
    "            if file_name[-1] == 'n':    # 맨뒷글자 json의 n               \n",
    "                json_path = subdir[2:] + \"/\" + file_name\n",
    "                # json에서 감정 읽어오기\n",
    "                dir = '/home/oem/data/5frames/' + json_path.split('-')[1] + '/' + json_path.split('/')[-1][:-5]\n",
    "                #print(dir)\n",
    "                frame_count = len(glob.glob(dir + \"/*.jpg\"))    # jpg 프레임 갯수 세기\n",
    "                with open(json_path) as json_file:              # json 열고\n",
    "                    data = json.load(json_file)                 # 읽고\n",
    "                    emotion = data['inspect']['emotion']        # json 안에 inspect 안에 emotion ex.편안/안정\n",
    "                    '''\n",
    "                    # 천개 짜르기\n",
    "                    #====================================================================================\n",
    "                    if len(emoClass['행복/즐거움']) > 999 and emotion == '행복/즐거움':\n",
    "                        continue\n",
    "                    elif len(emoClass['편안/안정']) > 999 and emotion == '편안/안정':\n",
    "                        continue\n",
    "                    else:\n",
    "\n",
    "                    #====================================================================================\n",
    "                    '''\n",
    "                    emoIndex = emoClassIndex[emotion]           # 감정 별로 번호 매기기\n",
    "                    emoClass[emotion].append(\"{} {} {}\".format(dir, frame_count, emoIndex))     # emoClass 안에 형식 맞춰서 저장    \n",
    "                    \n",
    "\n",
    "                    \n",
    "\n",
    "                    \n",
    "#print(emoClass)    \n",
    "# 그러면 json에서 읽어온 감정(정답)별로 이미지 파일들이 나눠짐\n",
    "\n"
   ]
  },
  {
   "cell_type": "code",
   "execution_count": 58,
   "metadata": {
    "tags": []
   },
   "outputs": [
    {
     "output_type": "stream",
     "name": "stdout",
     "text": [
      "행복/즐거움 : 1000, train: 800, val 200\n편안/안정 : 1000, train: 800, val 200\n화남/불쾌 : 913, train: 730, val 183\n불안/슬픔 : 780, train: 624, val 156\n공격성 : 91, train: 72, val 19\n공포 : 70, train: 56, val 14\n"
     ]
    }
   ],
   "source": [
    "split_rate = 0.8\n",
    "trainRaw = {}\n",
    "valRaw = {}          \n",
    "arr = []\n",
    "for clss in emoClass:           \n",
    "    cls_len = len(emoClass[clss])\n",
    "    split_point = int(split_rate * cls_len)  \n",
    "\n",
    "    list = emoClass[clss]\n",
    "    # list = [len(glob.glob(item[2:-4] + \"/*.jpg\")) for item in emoClass[clss]]\n",
    "    # print(list)\n",
    "\n",
    "    random.shuffle(list)                # 섞어주기\n",
    "    trainRaw[clss] = list[:split_point] # 80%\n",
    "    valRaw[clss] = list[split_point:]   # 20%\n",
    "    # couting each emoClass\n",
    "    arr.append([clss, len(emoClass[clss])])    \n",
    "    print('{} : {}, train: {}, val {}'.format(clss, len(emoClass[clss]), len(trainRaw[clss]), len(valRaw[clss])))            \n"
   ]
  },
  {
   "cell_type": "code",
   "execution_count": 59,
   "metadata": {},
   "outputs": [],
   "source": [
    "with open('emoTrain01_pkn.txt', 'w') as f:\n",
    "    for clss in trainRaw:\n",
    "        for item in trainRaw[clss]:\n",
    "            f.write(\"%s\\n\" % item)"
   ]
  },
  {
   "cell_type": "code",
   "execution_count": 60,
   "metadata": {},
   "outputs": [],
   "source": [
    "with open('emoVal01_pkn.txt', 'w') as f:\n",
    "    for clss in valRaw:\n",
    "        for item in valRaw[clss]:\n",
    "            f.write(\"%s\\n\" % item)"
   ]
  },
  {
   "cell_type": "code",
   "execution_count": null,
   "metadata": {},
   "outputs": [],
   "source": []
  }
 ]
}