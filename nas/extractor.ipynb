{
 "metadata": {
  "language_info": {
   "codemirror_mode": {
    "name": "ipython",
    "version": 3
   },
   "file_extension": ".py",
   "mimetype": "text/x-python",
   "name": "python",
   "nbconvert_exporter": "python",
   "pygments_lexer": "ipython3",
   "version": "3.8.5-final"
  },
  "orig_nbformat": 2,
  "kernelspec": {
   "name": "python3",
   "display_name": "Python 3",
   "language": "python"
  }
 },
 "nbformat": 4,
 "nbformat_minor": 2,
 "cells": [
  {
   "cell_type": "code",
   "execution_count": 1,
   "metadata": {},
   "outputs": [],
   "source": [
    "import os\n",
    "import shutil\n",
    "import subprocess\n"
   ]
  },
  {
   "cell_type": "code",
   "execution_count": 2,
   "metadata": {},
   "outputs": [],
   "source": [
    "root_dir = 'D:NIA_data\\save_data\\도심지'\n",
    "def frame_extraction(src, dst):            \n",
    "    if not os.path.isdir(dst):\n",
    "        os.mkdir(dst)\n",
    "    print('sizeof_dst:', os.path.getsize(dst))\n",
    "    if os.path.getsize(dst) < 1000000:        \n",
    "        dst_shape = dst + '/%08d.jpg'\n",
    "        print('starting extraction :', dst)\n",
    "        subprocess.call(['ffmpeg', '-i', src, '-threads', '5', '-f',  'image2', dst_shape], shell=True)\n",
    "        # extract_image = \"ffmpeg -i {} -threads 5 -f image2 {}\".format(src, dst)\n",
    "        # subprocess.call(extract_image+'/%08d.jpg', shell=True)         \n",
    "        print('making zip for :',dst)\n",
    "        shutil.make_archive(dst, 'zip', dst)\n",
    "    # if os.path.getsize(dst + '.zip') < 1000000:      "
   ]
  },
  {
   "cell_type": "code",
   "execution_count": 3,
   "metadata": {
    "tags": []
   },
   "outputs": [
    {
     "output_type": "stream",
     "name": "stdout",
     "text": [
      "2359296\n1572864\n2359296\n0\nstarting extraction : D:NIA_data\\save_data\\도심지\\제주_누웨마루거리_100m_60도_20200919\\도심지_202009191245_100m_제주 누웨마루거리_카메라_60도_02_image\n"
     ]
    },
    {
     "output_type": "error",
     "ename": "NameError",
     "evalue": "name 'dst_shape' is not defined",
     "traceback": [
      "\u001b[1;31m---------------------------------------------------------------------------\u001b[0m",
      "\u001b[1;31mNameError\u001b[0m                                 Traceback (most recent call last)",
      "\u001b[1;32m<ipython-input-3-394e2fd71c33>\u001b[0m in \u001b[0;36m<module>\u001b[1;34m\u001b[0m\n\u001b[0;32m      7\u001b[0m                 \u001b[0mos\u001b[0m\u001b[1;33m.\u001b[0m\u001b[0mmakedirs\u001b[0m\u001b[1;33m(\u001b[0m\u001b[0mdst_dir\u001b[0m\u001b[1;33m)\u001b[0m\u001b[1;33m\u001b[0m\u001b[1;33m\u001b[0m\u001b[0m\n\u001b[0;32m      8\u001b[0m             \u001b[0msrc_file\u001b[0m \u001b[1;33m=\u001b[0m \u001b[0mos\u001b[0m\u001b[1;33m.\u001b[0m\u001b[0mpath\u001b[0m\u001b[1;33m.\u001b[0m\u001b[0mjoin\u001b[0m\u001b[1;33m(\u001b[0m\u001b[0mroot\u001b[0m\u001b[1;33m,\u001b[0m \u001b[0mafile\u001b[0m\u001b[1;33m)\u001b[0m\u001b[1;33m\u001b[0m\u001b[1;33m\u001b[0m\u001b[0m\n\u001b[1;32m----> 9\u001b[1;33m             \u001b[0mframe_extraction\u001b[0m\u001b[1;33m(\u001b[0m\u001b[0msrc_file\u001b[0m\u001b[1;33m,\u001b[0m \u001b[0mdst_dir\u001b[0m\u001b[1;33m)\u001b[0m\u001b[1;33m\u001b[0m\u001b[1;33m\u001b[0m\u001b[0m\n\u001b[0m\u001b[0;32m     10\u001b[0m \u001b[1;33m\u001b[0m\u001b[0m\n\u001b[0;32m     11\u001b[0m     \u001b[1;31m# for adir in dirs:\u001b[0m\u001b[1;33m\u001b[0m\u001b[1;33m\u001b[0m\u001b[1;33m\u001b[0m\u001b[0m\n",
      "\u001b[1;32m<ipython-input-2-b59c618bad80>\u001b[0m in \u001b[0;36mframe_extraction\u001b[1;34m(src, dst)\u001b[0m\n\u001b[0;32m      7\u001b[0m         \u001b[1;31m# dst_shape = dst + '/%08d.jpg'\u001b[0m\u001b[1;33m\u001b[0m\u001b[1;33m\u001b[0m\u001b[1;33m\u001b[0m\u001b[0m\n\u001b[0;32m      8\u001b[0m         \u001b[0mprint\u001b[0m\u001b[1;33m(\u001b[0m\u001b[1;34m'starting extraction :'\u001b[0m\u001b[1;33m,\u001b[0m \u001b[0mdst\u001b[0m\u001b[1;33m)\u001b[0m\u001b[1;33m\u001b[0m\u001b[1;33m\u001b[0m\u001b[0m\n\u001b[1;32m----> 9\u001b[1;33m         \u001b[0msubprocess\u001b[0m\u001b[1;33m.\u001b[0m\u001b[0mcall\u001b[0m\u001b[1;33m(\u001b[0m\u001b[1;33m[\u001b[0m\u001b[1;34m'ffmpeg'\u001b[0m\u001b[1;33m,\u001b[0m \u001b[1;34m'-i'\u001b[0m\u001b[1;33m,\u001b[0m \u001b[0msrc\u001b[0m\u001b[1;33m,\u001b[0m \u001b[1;34m'-threads'\u001b[0m\u001b[1;33m,\u001b[0m \u001b[1;34m'5'\u001b[0m\u001b[1;33m,\u001b[0m \u001b[1;34m'-f'\u001b[0m\u001b[1;33m,\u001b[0m  \u001b[1;34m'image2'\u001b[0m\u001b[1;33m,\u001b[0m \u001b[0mdst_shape\u001b[0m\u001b[1;33m]\u001b[0m\u001b[1;33m,\u001b[0m \u001b[0mshell\u001b[0m\u001b[1;33m=\u001b[0m\u001b[1;32mTrue\u001b[0m\u001b[1;33m)\u001b[0m\u001b[1;33m\u001b[0m\u001b[1;33m\u001b[0m\u001b[0m\n\u001b[0m\u001b[0;32m     10\u001b[0m         \u001b[1;31m# extract_image = \"ffmpeg -i {} -threads 5 -f image2 {}\".format(src, dst)\u001b[0m\u001b[1;33m\u001b[0m\u001b[1;33m\u001b[0m\u001b[1;33m\u001b[0m\u001b[0m\n\u001b[0;32m     11\u001b[0m         \u001b[1;31m# subprocess.call(extract_image+'/%08d.jpg', shell=True)\u001b[0m\u001b[1;33m\u001b[0m\u001b[1;33m\u001b[0m\u001b[1;33m\u001b[0m\u001b[0m\n",
      "\u001b[1;31mNameError\u001b[0m: name 'dst_shape' is not defined"
     ]
    }
   ],
   "source": [
    "for (root, dirs, files) in os.walk(root_dir):\n",
    "    for afile in files:        \n",
    "        if afile.endswith('MOV') or afile.endswith('MP4'):\n",
    "            core_name = afile[:-4]\n",
    "            dst_dir = os.path.join(root, core_name + '_image')\n",
    "            if not os.path.isdir(dst_dir):\n",
    "                os.makedirs(dst_dir)\n",
    "            src_file = os.path.join(root, afile)\n",
    "            frame_extraction(src_file, dst_dir)     "
   ]
  },
  {
   "cell_type": "code",
   "execution_count": null,
   "metadata": {},
   "outputs": [],
   "source": []
  },
  {
   "cell_type": "code",
   "execution_count": 4,
   "metadata": {},
   "outputs": [],
   "source": [
    "def frame_extraction(src, dst):        \n",
    "    print('src:', src)\n",
    "    print('dst:', dst)\n",
    "    try:\n",
    "        os.mkdir(dst)\n",
    "    except:\n",
    "        print('Folder exist')\n",
    "    # extract_image = \"ffmpeg -i \\'{}\\' -threads 5 -f image2 \\'{}\\'\".format(src, dst)\n",
    "    extract_image = \"ffmpeg -i {}' -threads 5 -f image2 {}'\".format(src, dst)\n",
    "    subprocess.call(extract_image+'/%08d.jpg', shell=True)        \n",
    "    shutil.make_archive(dst, 'zip', dst)     "
   ]
  },
  {
   "cell_type": "code",
   "execution_count": null,
   "metadata": {},
   "outputs": [],
   "source": [
    "host = '14.49.44.243'\n",
    "nas_ip = '172.16.66.7'\n",
    "port = 22\n",
    "username = '08ulsan2'\n",
    "password = '08ulsan2321'\n",
    "hostkeys = None\n",
    "DATASET = \"DATASET2\"\n",
    "cnopts = pysftp.CnOpts()\n",
    "dst_root = '/files/01.데이터/2.Validation/라벨링데이터/도심지'\n",
    "src_root = '/home/test/nas_test/도심지'\n",
    "temp_folder = '/home/test/temp1'\n",
    "src_dir = \"울산_삼호교\"\n",
    "file_list = []"
   ]
  }
 ]
}