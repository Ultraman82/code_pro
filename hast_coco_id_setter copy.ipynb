{
 "metadata": {
  "language_info": {
   "codemirror_mode": {
    "name": "ipython",
    "version": 3
   },
   "file_extension": ".py",
   "mimetype": "text/x-python",
   "name": "python",
   "nbconvert_exporter": "python",
   "pygments_lexer": "ipython3",
   "version": "3.8.3-final"
  },
  "orig_nbformat": 2,
  "kernelspec": {
   "name": "python3",
   "display_name": "Python 3",
   "language": "python"
  }
 },
 "nbformat": 4,
 "nbformat_minor": 2,
 "cells": [
  {
   "cell_type": "code",
   "execution_count": 53,
   "metadata": {},
   "outputs": [],
   "source": [
    "import json\n",
    "json_path = '/home/edgar/cocosplit/merged_v3.json'"
   ]
  },
  {
   "cell_type": "code",
   "execution_count": 54,
   "metadata": {},
   "outputs": [],
   "source": [
    "with open(json_path) as json_file:\n",
    "    json_data = json.load(json_file)     "
   ]
  },
  {
   "cell_type": "code",
   "execution_count": 55,
   "metadata": {},
   "outputs": [
    {
     "output_type": "execute_result",
     "data": {
      "text/plain": [
       "[{'id': 1, 'name': 'big_house', 'supercategory': 'object'},\n",
       " {'id': 2, 'name': 'house', 'supercategory': 'object'},\n",
       " {'id': 3, 'name': 'container', 'supercategory': 'object'},\n",
       " {'id': 4, 'name': 'big_building', 'supercategory': 'object'},\n",
       " {'id': 5, 'name': 'road', 'supercategory': 'object'},\n",
       " {'id': 6, 'name': 'building', 'supercategory': 'object'},\n",
       " {'id': 7, 'name': 'house_cluster', 'supercategory': 'object'},\n",
       " {'id': 8, 'name': 'building_cluster', 'supercategory': 'object'},\n",
       " {'id': 9, 'name': 'etc', 'supercategory': 'object'},\n",
       " {'id': 10, 'name': 'empty_soil', 'supercategory': 'object'},\n",
       " {'id': 11, 'name': 'empty_paved', 'supercategory': 'object'},\n",
       " {'id': 12, 'name': 'empty_etc', 'supercategory': 'object'}]"
      ]
     },
     "metadata": {},
     "execution_count": 55
    }
   ],
   "source": [
    "cat_list = json_data['categories']\n",
    "cat_list"
   ]
  },
  {
   "cell_type": "code",
   "execution_count": 56,
   "metadata": {
    "tags": []
   },
   "outputs": [],
   "source": [
    "json_ann = json_data['annotations']\n",
    "new_ann = []\n",
    "for annotation in json_ann:    \n",
    "    cat_id = annotation['category_id']     \n",
    "    if cat_id ==  7:                     \n",
    "        annotation['category_id'] = 1\n",
    "        annotation['iscrowd'] = 1                                    \n",
    "    elif cat_id == 8:\n",
    "        annotation['category_id'] = 6\n",
    "        annotation['iscrowd'] = 1                                            \n",
    "    new_ann.append(annotation)    \n",
    "\n",
    "# json['annotations'] = new_ann\n",
    "    # print(\"target : \" + nv[clssInd[cat_id]])"
   ]
  },
  {
   "cell_type": "code",
   "execution_count": 57,
   "metadata": {},
   "outputs": [
    {
     "output_type": "stream",
     "name": "stdout",
     "text": [
      "12413\n12413\n"
     ]
    }
   ],
   "source": [
    "print(len(new_ann))\n",
    "print(len(json_ann))"
   ]
  },
  {
   "cell_type": "code",
   "execution_count": 58,
   "metadata": {},
   "outputs": [],
   "source": [
    "json_data['annotations'] = new_ann"
   ]
  },
  {
   "cell_type": "code",
   "execution_count": 60,
   "metadata": {},
   "outputs": [],
   "source": [
    "with open('merged_nocluster_v3.json', 'w') as outfile:\n",
    "    json.dump(json_data, outfile)"
   ]
  },
  {
   "cell_type": "code",
   "execution_count": 61,
   "metadata": {},
   "outputs": [
    {
     "output_type": "error",
     "ename": "NameError",
     "evalue": "name 'merged' is not defined",
     "traceback": [
      "\u001b[0;31m---------------------------------------------------------------------------\u001b[0m",
      "\u001b[0;31mNameError\u001b[0m                                 Traceback (most recent call last)",
      "\u001b[0;32m<ipython-input-61-e1f7eb4c2390>\u001b[0m in \u001b[0;36m<module>\u001b[0;34m\u001b[0m\n\u001b[0;32m----> 1\u001b[0;31m \u001b[0mlen\u001b[0m\u001b[0;34m(\u001b[0m\u001b[0mmerged\u001b[0m\u001b[0;34m[\u001b[0m\u001b[0;34m'annotations'\u001b[0m\u001b[0;34m]\u001b[0m\u001b[0;34m)\u001b[0m\u001b[0;34m\u001b[0m\u001b[0;34m\u001b[0m\u001b[0m\n\u001b[0m",
      "\u001b[0;31mNameError\u001b[0m: name 'merged' is not defined"
     ]
    }
   ],
   "source": [
    "len(json_data['annotations'])"
   ]
  },
  {
   "cell_type": "code",
   "execution_count": null,
   "metadata": {},
   "outputs": [],
   "source": []
  }
 ]
}