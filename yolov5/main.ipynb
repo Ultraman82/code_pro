{
 "metadata": {
  "language_info": {
   "codemirror_mode": {
    "name": "ipython",
    "version": 3
   },
   "file_extension": ".py",
   "mimetype": "text/x-python",
   "name": "python",
   "nbconvert_exporter": "python",
   "pygments_lexer": "ipython3",
   "version": "3.8.5-final"
  },
  "orig_nbformat": 2,
  "kernelspec": {
   "name": "Python 3.8.5 64-bit",
   "display_name": "Python 3.8.5 64-bit",
   "metadata": {
    "interpreter": {
     "hash": "767d51c1340bd893661ea55ea3124f6de3c7a262a8b4abca0554b478b1e2ff90"
    }
   }
  }
 },
 "nbformat": 4,
 "nbformat_minor": 2,
 "cells": [
  {
   "cell_type": "code",
   "execution_count": 2,
   "metadata": {},
   "outputs": [
    {
     "output_type": "stream",
     "name": "stderr",
     "text": [
      "100%|██████████| 3035/3035 [00:02<00:00, 1222.44it/s]\n",
      "  0%|          | 0/3035 [00:00<?, ?it/s]\n"
     ]
    },
    {
     "output_type": "error",
     "ename": "FileNotFoundError",
     "evalue": "[Errno 2] No such file or directory: '/home/edgar/yolov5/data/wheat/wheat_data/labels/validation/6d34eb3b2.txt'",
     "traceback": [
      "\u001b[0;31m---------------------------------------------------------------------------\u001b[0m",
      "\u001b[0;31mFileNotFoundError\u001b[0m                         Traceback (most recent call last)",
      "\u001b[0;32m<ipython-input-2-8cbd29b2149d>\u001b[0m in \u001b[0;36m<module>\u001b[0;34m\u001b[0m\n\u001b[1;32m     51\u001b[0m     \u001b[0mdf_valid\u001b[0m \u001b[0;34m=\u001b[0m \u001b[0mdf_train\u001b[0m\u001b[0;34m.\u001b[0m\u001b[0mreset_index\u001b[0m\u001b[0;34m(\u001b[0m\u001b[0mdrop\u001b[0m\u001b[0;34m=\u001b[0m\u001b[0;32mTrue\u001b[0m\u001b[0;34m)\u001b[0m\u001b[0;34m\u001b[0m\u001b[0;34m\u001b[0m\u001b[0m\n\u001b[1;32m     52\u001b[0m     \u001b[0mprocess_data\u001b[0m\u001b[0;34m(\u001b[0m\u001b[0mdf_train\u001b[0m\u001b[0;34m,\u001b[0m \u001b[0mdata_type\u001b[0m\u001b[0;34m=\u001b[0m\u001b[0;34m\"train\"\u001b[0m\u001b[0;34m)\u001b[0m\u001b[0;34m\u001b[0m\u001b[0;34m\u001b[0m\u001b[0m\n\u001b[0;32m---> 53\u001b[0;31m     \u001b[0mprocess_data\u001b[0m\u001b[0;34m(\u001b[0m\u001b[0mdf_valid\u001b[0m\u001b[0;34m,\u001b[0m \u001b[0mdata_type\u001b[0m\u001b[0;34m=\u001b[0m\u001b[0;34m\"validation\"\u001b[0m\u001b[0;34m)\u001b[0m\u001b[0;34m\u001b[0m\u001b[0;34m\u001b[0m\u001b[0m\n\u001b[0m\u001b[1;32m     54\u001b[0m \u001b[0;34m\u001b[0m\u001b[0m\n",
      "\u001b[0;32m<ipython-input-2-8cbd29b2149d>\u001b[0m in \u001b[0;36mprocess_data\u001b[0;34m(data, data_type)\u001b[0m\n\u001b[1;32m     28\u001b[0m             \u001b[0myolo_data\u001b[0m\u001b[0;34m.\u001b[0m\u001b[0mappend\u001b[0m\u001b[0;34m(\u001b[0m\u001b[0;34m[\u001b[0m\u001b[0;36m0\u001b[0m\u001b[0;34m,\u001b[0m \u001b[0mx_center\u001b[0m\u001b[0;34m,\u001b[0m \u001b[0my_center\u001b[0m\u001b[0;34m,\u001b[0m \u001b[0mw\u001b[0m\u001b[0;34m,\u001b[0m \u001b[0mh\u001b[0m\u001b[0;34m]\u001b[0m\u001b[0;34m)\u001b[0m\u001b[0;34m\u001b[0m\u001b[0;34m\u001b[0m\u001b[0m\n\u001b[1;32m     29\u001b[0m         \u001b[0myolo_data\u001b[0m \u001b[0;34m=\u001b[0m \u001b[0mnp\u001b[0m\u001b[0;34m.\u001b[0m\u001b[0marray\u001b[0m\u001b[0;34m(\u001b[0m\u001b[0myolo_data\u001b[0m\u001b[0;34m)\u001b[0m\u001b[0;34m\u001b[0m\u001b[0;34m\u001b[0m\u001b[0m\n\u001b[0;32m---> 30\u001b[0;31m         np.savetxt(\n\u001b[0m\u001b[1;32m     31\u001b[0m             \u001b[0mos\u001b[0m\u001b[0;34m.\u001b[0m\u001b[0mpath\u001b[0m\u001b[0;34m.\u001b[0m\u001b[0mjoin\u001b[0m\u001b[0;34m(\u001b[0m\u001b[0mOUT_PATH\u001b[0m\u001b[0;34m,\u001b[0m \u001b[0;34mf\"labels/{data_type}/{image_name}.txt\"\u001b[0m\u001b[0;34m)\u001b[0m\u001b[0;34m,\u001b[0m\u001b[0;34m\u001b[0m\u001b[0;34m\u001b[0m\u001b[0m\n\u001b[1;32m     32\u001b[0m             \u001b[0myolo_data\u001b[0m\u001b[0;34m,\u001b[0m\u001b[0;34m\u001b[0m\u001b[0;34m\u001b[0m\u001b[0m\n",
      "\u001b[0;32m<__array_function__ internals>\u001b[0m in \u001b[0;36msavetxt\u001b[0;34m(*args, **kwargs)\u001b[0m\n",
      "\u001b[0;32m/usr/lib/python3/dist-packages/numpy/lib/npyio.py\u001b[0m in \u001b[0;36msavetxt\u001b[0;34m(fname, X, fmt, delimiter, newline, header, footer, comments, encoding)\u001b[0m\n\u001b[1;32m   1362\u001b[0m     \u001b[0;32mif\u001b[0m \u001b[0m_is_string_like\u001b[0m\u001b[0;34m(\u001b[0m\u001b[0mfname\u001b[0m\u001b[0;34m)\u001b[0m\u001b[0;34m:\u001b[0m\u001b[0;34m\u001b[0m\u001b[0;34m\u001b[0m\u001b[0m\n\u001b[1;32m   1363\u001b[0m         \u001b[0;31m# datasource doesn't support creating a new file ...\u001b[0m\u001b[0;34m\u001b[0m\u001b[0;34m\u001b[0m\u001b[0;34m\u001b[0m\u001b[0m\n\u001b[0;32m-> 1364\u001b[0;31m         \u001b[0mopen\u001b[0m\u001b[0;34m(\u001b[0m\u001b[0mfname\u001b[0m\u001b[0;34m,\u001b[0m \u001b[0;34m'wt'\u001b[0m\u001b[0;34m)\u001b[0m\u001b[0;34m.\u001b[0m\u001b[0mclose\u001b[0m\u001b[0;34m(\u001b[0m\u001b[0;34m)\u001b[0m\u001b[0;34m\u001b[0m\u001b[0;34m\u001b[0m\u001b[0m\n\u001b[0m\u001b[1;32m   1365\u001b[0m         \u001b[0mfh\u001b[0m \u001b[0;34m=\u001b[0m \u001b[0mnp\u001b[0m\u001b[0;34m.\u001b[0m\u001b[0mlib\u001b[0m\u001b[0;34m.\u001b[0m\u001b[0m_datasource\u001b[0m\u001b[0;34m.\u001b[0m\u001b[0mopen\u001b[0m\u001b[0;34m(\u001b[0m\u001b[0mfname\u001b[0m\u001b[0;34m,\u001b[0m \u001b[0;34m'wt'\u001b[0m\u001b[0;34m,\u001b[0m \u001b[0mencoding\u001b[0m\u001b[0;34m=\u001b[0m\u001b[0mencoding\u001b[0m\u001b[0;34m)\u001b[0m\u001b[0;34m\u001b[0m\u001b[0;34m\u001b[0m\u001b[0m\n\u001b[1;32m   1366\u001b[0m         \u001b[0mown_fh\u001b[0m \u001b[0;34m=\u001b[0m \u001b[0;32mTrue\u001b[0m\u001b[0;34m\u001b[0m\u001b[0;34m\u001b[0m\u001b[0m\n",
      "\u001b[0;31mFileNotFoundError\u001b[0m: [Errno 2] No such file or directory: '/home/edgar/yolov5/data/wheat/wheat_data/labels/validation/6d34eb3b2.txt'"
     ]
    }
   ],
   "source": [
    "import os\n",
    "import ast\n",
    "import shutil\n",
    "import pandas as pd\n",
    "from sklearn import model_selection\n",
    "from tqdm import tqdm\n",
    "import numpy as np\n",
    "DATA_PATH = \"/home/edgar/yolov5/data/wheat\"\n",
    "OUT_PATH = \"/home/edgar/yolov5/data/wheat/wheat_data\"\n",
    "\n",
    "def process_data(data, data_type=\"train\"):\n",
    "    for _, row in tqdm(data.iterrows(), total=len(data)):\n",
    "        image_name = row[\"image_id\"]\n",
    "        bounding_boxes = row[\"bboxes\"]\n",
    "        yolo_data = []\n",
    "        for bbox in bounding_boxes:\n",
    "            x = bbox[0]\n",
    "            y = bbox[1]\n",
    "            w = bbox[2]\n",
    "            h = bbox[3]\n",
    "            x_center = x + w / 2\n",
    "            y_center = y + h / 2\n",
    "            x_center /= 1024.0\n",
    "            y_center /= 1024.0\n",
    "            w /= 1024.0\n",
    "            h /= 1024.0\n",
    "            yolo_data.append([0, x_center, y_center, w, h])\n",
    "        yolo_data = np.array(yolo_data)\n",
    "        np.savetxt(\n",
    "            os.path.join(OUT_PATH, f\"labels/{data_type}/{image_name}.txt\"),\n",
    "            yolo_data,\n",
    "            fmt=[\"%d\", \"%f\", \"%f\", \"%f\", \"%f\"]\n",
    "        )\n",
    "        shutil.copyfile(\n",
    "            os.path.join(DATA_PATH, f\"train/{image_name}.jpg\"),\n",
    "            os.path.join(OUT_PATH, f\"images/{data_type}/{image_name}.jpg\")\n",
    "        )\n",
    "\n",
    "if __name__ == \"__main__\":\n",
    "    df = pd.read_csv(os.path.join(DATA_PATH, \"train.csv\"))\n",
    "    df.bbox = df.bbox.apply(ast.literal_eval)\n",
    "    df = df.groupby(\"image_id\")[\"bbox\"].apply(list).reset_index(name=\"bboxes\")\n",
    "    df_train, df_valid = model_selection.train_test_split(\n",
    "        df,\n",
    "        test_size = 0.1,\n",
    "        random_state=42,\n",
    "        shuffle=True\n",
    "    )\n",
    "    df_train = df_train.reset_index(drop=True)\n",
    "    df_valid = df_train.reset_index(drop=True)\n",
    "    process_data(df_train, data_type=\"train\")\n",
    "    process_data(df_valid, data_type=\"val\")\n",
    "\n"
   ]
  },
  {
   "cell_type": "code",
   "execution_count": null,
   "metadata": {},
   "outputs": [],
   "source": [
    "l = \"[1,2,3]\"\n",
    "\n",
    "type(ast.literal_eval(l))"
   ]
  }
 ]
}