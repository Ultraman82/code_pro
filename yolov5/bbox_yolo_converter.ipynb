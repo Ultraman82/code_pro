{
 "metadata": {
  "language_info": {
   "codemirror_mode": {
    "name": "ipython",
    "version": 3
   },
   "file_extension": ".py",
   "mimetype": "text/x-python",
   "name": "python",
   "nbconvert_exporter": "python",
   "pygments_lexer": "ipython3",
   "version": "3.8.3-final"
  },
  "orig_nbformat": 2,
  "kernelspec": {
   "name": "python3",
   "display_name": "Python 3"
  }
 },
 "nbformat": 4,
 "nbformat_minor": 2,
 "cells": [
  {
   "cell_type": "code",
   "execution_count": 1,
   "metadata": {
    "tags": []
   },
   "outputs": [],
   "source": [
    "import glob, shutil, os, json, re, random\n",
    "import numpy as np\n",
    "# from subprocess import call\n",
    " "
   ]
  },
  {
   "cell_type": "code",
   "execution_count": 7,
   "metadata": {
    "tags": []
   },
   "outputs": [],
   "source": [
    "#Change the data_type\n",
    "data_type = 'train'\n",
    "CAP = 10\n",
    "\n",
    "data_src_path = '/home/edgar/data/frame'\n",
    "ann_path = '/home/edgar/data/frame/annotations'\n",
    "OUT_PATH = \"/home/edgar/yolov5/data/frames\"\n",
    "cpy_dest = f'/home/edgar/yolov5/data/frames/images/{data_type}'\n",
    "\n",
    "with open(f\"{data_type}{CAP}.txt\", 'r') as fin:   \n",
    "    file_list = [row.strip() for row in fin]      \n",
    "    for afile in file_list:        \n",
    "        _, file_name, img_number, clss = afile.split('/')\n",
    "        cpy_dst = f\"{cpy_dest}/{file_name}-{img_number}\"        \n",
    "        if not os.path.exists(cpy_dst):            \n",
    "            cpy_src = os.path.join(data_src_path, afile[:-2])            \n",
    "            shutil.copy(cpy_src, cpy_dst) \n",
    "        img_name = file_name + \"-\" + img_number[:-4] \n",
    "        img_index = int(img_number[6:9]) - 1\n",
    "        json_path = ann_path + \"/\" + afile.split('/')[1] + \".mp4.json\"        \n",
    "        with open(json_path) as json_file:\n",
    "            data = json.load(json_file)\n",
    "            imh = float(data['metadata']['height'])\n",
    "            imw = float(data['metadata']['width'])\n",
    "            bbox = data['annotations'][img_index]['bounding_box']            \n",
    "            x = bbox['x']\n",
    "            y = bbox['y']\n",
    "            w = bbox['width']\n",
    "            h = bbox['height']\n",
    "            x_center = x + w / 2\n",
    "            y_center = y + h / 2\n",
    "            x_center /= imw\n",
    "            y_center /= imh\n",
    "            w = min(w / imw, .99)\n",
    "            h = min(h / imh, .99)\n",
    "            # w /= imw\n",
    "            # h /= imh\n",
    "            yolo_data = [[int(clss), x_center, y_center, w, h]]            \n",
    "            \n",
    "            yolo_data = np.array(yolo_data)\n",
    "            # print(yolo_data)\n",
    "            # with open(os.path.join(OUT_PATH, f\"labels/{data_type}/{img_name}.txt\"), 'w') as f:\n",
    "            #     f.write(\"{}\".format(yolo_data))\n",
    "            np.savetxt(\n",
    "                os.path.join(OUT_PATH, f\"labels/{data_type}/{img_name}.txt\"),\n",
    "                yolo_data,\n",
    "                fmt=[\"%d\", \"%f\", \"%f\", \"%f\", \"%f\"]\n",
    "            )"
   ]
  },
  {
   "cell_type": "code",
   "execution_count": null,
   "metadata": {},
   "outputs": [],
   "source": []
  }
 ]
}