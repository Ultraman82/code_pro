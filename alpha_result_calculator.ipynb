{
 "metadata": {
  "language_info": {
   "codemirror_mode": {
    "name": "ipython",
    "version": 3
   },
   "file_extension": ".py",
   "mimetype": "text/x-python",
   "name": "python",
   "nbconvert_exporter": "python",
   "pygments_lexer": "ipython3",
   "version": "3.7.9-final"
  },
  "orig_nbformat": 2,
  "kernelspec": {
   "name": "python3",
   "display_name": "Python 3",
   "language": "python"
  }
 },
 "nbformat": 4,
 "nbformat_minor": 2,
 "cells": [
  {
   "cell_type": "code",
   "execution_count": 1,
   "metadata": {},
   "outputs": [],
   "source": [
    "import numpy as np\n",
    "import cv2\n",
    "import json\n",
    "import torch\n",
    "import os\n",
    "import random\n",
    "from mmdet.apis import (inference_detector, init_detector, show_result_pyplot)"
   ]
  },
  {
   "cell_type": "code",
   "execution_count": 2,
   "metadata": {},
   "outputs": [],
   "source": [
    "\n",
    "# config = '/home/oem/mmdetection/work_dirs/dconv_c3-c5_cascade_mask_rcnn_x101_32x4d/cascade_mask_rcnn_x101_32x4d_fpn_dconv_c3-c5_1x_coco.py'\n",
    "# checkpoint = '/home/oem/mmdetection/work_dirs/dconv_c3-c5_cascade_mask_rcnn_x101_32x4d/v3_final.pth'\n",
    "# config = '/home/oem/mmdetection/work_dirs/binary_cascade/cascade_mask_rcnn_x101_32x4d_fpn_dconv_c3-c5_1x_coco.py'\n",
    "# checkpoint = '/home/oem/mmdetection/work_dirs/binary_cascade/binary_3set.pth'\n",
    "config = '/home/oem/mmdetection/work_dirs/nocluster/nocluster.py'\n",
    "checkpoint = '/home/oem/mmdetection/work_dirs/nocluster/nocluster_set2.pth'\n",
    "model = init_detector(config, checkpoint, device = 'cuda:0')\n",
    "json_path = 'test.json'\n",
    "CLASSES = ('big_house', 'house', 'container', 'big_building', 'road', 'building',\n",
    "            'house_cluster', 'building_cluster', 'etc', 'empty_soil', 'empty_paved',\n",
    "            'empty_etc')\n"
   ]
  },
  {
   "cell_type": "code",
   "execution_count": 3,
   "metadata": {},
   "outputs": [],
   "source": [
    "def pointInRectRatio(point,rect, ratio = 1):    \n",
    "    x1, y1, x2, y2 = rect    \n",
    "    x, y = point\n",
    "    w_offset  = ((x2 - x1) * ratio) / 2\n",
    "    h_offset = ((y2 - y1) * ratio) / 2\n",
    "    if ((x1 + w_offset) < x and x < (x2 - w_offset)):\n",
    "        if ((y1 + h_offset) < y and y < (y2 - h_offset)):\n",
    "            return True\n",
    "    return False\n",
    "\n",
    "def pointInRect(point,rect):    \n",
    "    x1, y1, x2, y2 = rect    \n",
    "    x, y = point\n",
    "    \n",
    "    if (x1 < x and x < x2):\n",
    "        if (y1 < y and y < y2):\n",
    "            return True\n",
    "    return False"
   ]
  },
  {
   "cell_type": "code",
   "execution_count": 11,
   "metadata": {},
   "outputs": [],
   "source": [
    "for i in range(10):    \n",
    "    img14 = '/home/oem/data/alpha/images/4_{}_14.jpg'.format(i)\n",
    "    img18 = '/home/oem/data/alpha/images/4_{}_18.jpg'.format(i)        \n",
    "    # img14 = '/home/oem/data/alpha/gamma/4_{}_14.jpg'.format(i)\n",
    "    # img18 = '/home/oem/data/alpha/gamma/4_{}_18.jpg'.format(i)    \n",
    "    result14 = inference_detector(model, img14)\n",
    "    result18 = inference_detector(model, img18)\n",
    "    thresh = 0.4\n",
    "    detect_ratio = 1\n",
    "    test14_bbox = result14[0][:9]\n",
    "    test18_bbox = result18[0][:9]\n",
    "    cnt = 0\n",
    "    diff_bbox = []    \n",
    "    for class_14, class_18 in zip(test14_bbox, test18_bbox):\n",
    "        if cnt != 4:\n",
    "            past_results = [item[:4] for item in class_14 if item[4] > thresh]\n",
    "            now_results = [item[:4] for item in class_18 if item[4] > thresh]        \n",
    "            for now in now_results:\n",
    "                now_center = [(now[0] + now[2]) / 2, (now[1] + now[3]) / 2]\n",
    "                if not any(pointInRect(now_center, past) for past in past_results): \n",
    "                    diff_bbox.append(now)\n",
    "        cnt += 1\n",
    "    result_18 = cv2.imread(img18)\n",
    "    result_14 = cv2.imread(img14)\n",
    "    thickness = 3    \n",
    "    for box in diff_bbox:      \n",
    "        start = (box[0], box[1])  \n",
    "        end =  (box[2], box[3])          \n",
    "        color = random.sample(range(50, 255), 3)\n",
    "        result_18 = cv2.rectangle(result_18, start, end, color, thickness)\n",
    "        result_14 = cv2.rectangle(result_14, start, end, color, thickness)\n",
    "    inference_14 = show_result_pyplot(model, img14, result14)\n",
    "    inference_18 = show_result_pyplot(model, img18, result18)\n",
    "    row1 = np.hstack([inference_18, result_18])\n",
    "    row2 = np.hstack([inference_14, result_14])\n",
    "    final_result = np.vstack([row1, row2])\n",
    "    # final_result = np.vstack([result_18, result_14])\n",
    "    cv2.imwrite('result_{}.jpg'.format(i), final_result)  \n",
    "\n"
   ]
  },
  {
   "cell_type": "code",
   "execution_count": 30,
   "metadata": {},
   "outputs": [],
   "source": [
    "\n",
    "\n",
    "# print(diff_bbox)"
   ]
  },
  {
   "cell_type": "code",
   "execution_count": 31,
   "metadata": {},
   "outputs": [
    {
     "output_type": "execute_result",
     "data": {
      "text/plain": [
       "True"
      ]
     },
     "metadata": {},
     "execution_count": 31
    }
   ],
   "source": [
    "\n"
   ]
  },
  {
   "cell_type": "code",
   "execution_count": 16,
   "metadata": {},
   "outputs": [
    {
     "output_type": "error",
     "ename": "AttributeError",
     "evalue": "'dict' object has no attribute 'astype'",
     "traceback": [
      "\u001b[0;31m---------------------------------------------------------------------------\u001b[0m",
      "\u001b[0;31mAttributeError\u001b[0m                            Traceback (most recent call last)",
      "\u001b[0;32m<ipython-input-16-eaf5e54f0d61>\u001b[0m in \u001b[0;36m<module>\u001b[0;34m\u001b[0m\n\u001b[1;32m      1\u001b[0m \u001b[0mmask\u001b[0m \u001b[0;34m=\u001b[0m \u001b[0;34m{\u001b[0m\u001b[0;34m\"size\"\u001b[0m\u001b[0;34m:\u001b[0m \u001b[0;34m[\u001b[0m\u001b[0;36m995\u001b[0m\u001b[0;34m,\u001b[0m \u001b[0;36m1442\u001b[0m\u001b[0;34m]\u001b[0m\u001b[0;34m,\u001b[0m \u001b[0;34m\"counts\"\u001b[0m\u001b[0;34m:\u001b[0m \u001b[0;34m\"fWiP12in00[QO5`n0;I5L6K3K4M3N2N2O1L5K4N2N2N2M3M3N2O1N2O1O2N1O1N2N2O100O100O100O1O101O0O10001O000001O01O01O000000010O001000O000100O1O00100000000O00100O0010000O100O1O2O0O1O011N10O01O1O001O001O1O1O1O001O1O00001O0O2O1N2O0O2N2O1M2O2L3N3M2O2N2M2M4L4M3M4L3M5FlZ[7\"\u001b[0m\u001b[0;34m}\u001b[0m\u001b[0;34m\u001b[0m\u001b[0;34m\u001b[0m\u001b[0m\n\u001b[0;32m----> 2\u001b[0;31m mask_new, contours, hierarchy = cv2.findContours((mask).astype(np.uint8), cv2.RETR_TREE,\n\u001b[0m\u001b[1;32m      3\u001b[0m                                                         cv2.CHAIN_APPROX_SIMPLE)\n",
      "\u001b[0;31mAttributeError\u001b[0m: 'dict' object has no attribute 'astype'"
     ]
    }
   ],
   "source": [
    "# mask = {\"size\": [995, 1442], \"counts\": \"fWiP12in00[QO5`n0;I5L6K3K4M3N2N2O1L5K4N2N2N2M3M3N2O1N2O1O2N1O1N2N2O100O100O100O1O101O0O10001O000001O01O01O000000010O001000O000100O1O00100000000O00100O0010000O100O1O2O0O1O011N10O01O1O001O001O1O1O1O001O1O00001O0O2O1N2O0O2N2O1M2O2L3N3M2O2N2M2M4L4M3M4L3M5FlZ[7\"}\n",
    "# mask_new, contours, hierarchy = cv2.findContours((mask).astype(np.uint8), cv2.RETR_TREE,\n",
    "#                                                         cv2.CHAIN_APPROX_SIMPLE)"
   ]
  }
 ]
}