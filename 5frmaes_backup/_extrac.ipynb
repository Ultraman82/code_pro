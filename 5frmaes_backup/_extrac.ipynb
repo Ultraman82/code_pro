{
 "metadata": {
  "language_info": {
   "codemirror_mode": {
    "name": "ipython",
    "version": 3
   },
   "file_extension": ".py",
   "mimetype": "text/x-python",
   "name": "python",
   "nbconvert_exporter": "python",
   "pygments_lexer": "ipython3",
   "version": "3.7.6-final"
  },
  "orig_nbformat": 2,
  "kernelspec": {
   "name": "python3",
   "display_name": "Python 3",
   "language": "python"
  }
 },
 "nbformat": 4,
 "nbformat_minor": 2,
 "cells": [
  {
   "cell_type": "code",
   "execution_count": 1,
   "metadata": {},
   "outputs": [],
   "source": [
    "import glob\n",
    "import os\n",
    "import json\n",
    "from os import walk\n",
    "import re\n",
    "import random\n",
    "from subprocess import call\n",
    " "
   ]
  },
  {
   "cell_type": "code",
   "execution_count": 2,
   "metadata": {},
   "outputs": [
    {
     "output_type": "stream",
     "name": "stdout",
     "text": [
      "{'sit': '0', 'feetup': '1', 'bodylower': '2', 'laydown': '3', 'lying': '4', 'bodyshake': '5', 'grooming': '6', 'turn': '7', 'tailing': '8', 'sitdown': '9', 'footup': '10', 'armstretch': '11', 'mounting': '12', 'taillow': '13', 'heading': '14', 'arch': '15', 'roll': '16', 'getdown': '17', 'footpush': '18', 'walkrun': '19', 'bodyscratch': '20'}\n"
     ]
    }
   ],
   "source": [
    "clssInd = {}\n",
    "with open('_clssInd.txt', 'r') as fin:    \n",
    "    test_list = [row.strip() for row in fin]    \n",
    "    for clss in test_list:\n",
    "        # print(clss.split(' '))\n",
    "        [clssName, index] = clss.split(' ')\n",
    "        clssInd[clssName] = index\n",
    "\n",
    "print(clssInd)\n"
   ]
  },
  {
   "cell_type": "code",
   "execution_count": 3,
   "metadata": {
    "tags": []
   },
   "outputs": [
    {
     "output_type": "stream",
     "name": "stdout",
     "text": [
      "sit,1944\n",
      "\n",
      "feetup,1105\n",
      "\n",
      "bodylower,2328\n",
      "\n",
      "laydown,762\n",
      "\n",
      "lying,1569\n",
      "\n",
      "bodyshake,546\n",
      "\n",
      "grooming,2525\n",
      "\n",
      "turn,623\n",
      "\n",
      "tailing,2406\n",
      "\n",
      "sitdown,654\n",
      "\n",
      "footup,1084\n",
      "\n",
      "armstretch,1072\n",
      "\n",
      "mounting,155\n",
      "\n",
      "taillow,273\n",
      "\n",
      "heading,840\n",
      "\n",
      "arch,68\n",
      "\n",
      "roll,336\n",
      "\n",
      "getdown,487\n",
      "\n",
      "footpush,400\n",
      "\n",
      "walkrun,3561\n",
      "\n",
      "bodyscratch,498\n",
      "\n",
      "23236\n"
     ]
    }
   ],
   "source": [
    "# MAXCAP = 300\n",
    "s_rate1 = 0.8\n",
    "# s_rate2 = 0.9\n",
    "trainRaw = {}\n",
    "valRaw = {}          \n",
    "arr = []\n",
    "missarr = []\n",
    "total = 0\n",
    "root_path = '/home/oem/data/5frames/'\n",
    "\n",
    "for clss in clssInd.keys():    \n",
    "    cur_list = os.listdir('./' + clss)\n",
    "    cls_len = len(cur_list)\n",
    "    s_point1 = int(cls_len * s_rate1)\n",
    "    list = [os.path.join(root_path, clss, item) + \" {} {}\".format(len(glob.glob(clss + \"/\"+  item + \"/*jpg\")), clssInd[clss]) for item in cur_list]    \n",
    "    random.shuffle(list)\n",
    "    trainRaw[clss] = list[:s_point1]\n",
    "    valRaw[clss] = list[s_point1:]     \n",
    "    arr.append((clss, cls_len))\n",
    "    total += cls_len    \n",
    "    print('{},{}\\n'.format(clss, cls_len))    \n",
    "print(total)"
   ]
  },
  {
   "cell_type": "code",
   "execution_count": 40,
   "metadata": {},
   "outputs": [],
   "source": [
    "with open('train_23236.txt', 'w') as f:\n",
    "    for clss in trainRaw:\n",
    "        for item in trainRaw[clss]:\n",
    "            f.write(\"%s\\n\" % item)"
   ]
  },
  {
   "cell_type": "code",
   "execution_count": null,
   "metadata": {},
   "outputs": [],
   "source": []
  },
  {
   "cell_type": "code",
   "execution_count": 41,
   "metadata": {},
   "outputs": [],
   "source": [
    "with open('val_23236.txt', 'w') as f:\n",
    "    for clss in valRaw:\n",
    "        for item in valRaw[clss]:\n",
    "            f.write(\"%s\\n\" % item)"
   ]
  },
  {
   "cell_type": "code",
   "execution_count": null,
   "metadata": {},
   "outputs": [],
   "source": []
  }
 ]
}