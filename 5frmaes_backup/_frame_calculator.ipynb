{
 "metadata": {
  "language_info": {
   "codemirror_mode": {
    "name": "ipython",
    "version": 3
   },
   "file_extension": ".py",
   "mimetype": "text/x-python",
   "name": "python",
   "nbconvert_exporter": "python",
   "pygments_lexer": "ipython3",
   "version": "3.7.6-final"
  },
  "orig_nbformat": 2,
  "kernelspec": {
   "name": "python3",
   "display_name": "Python 3",
   "language": "python"
  }
 },
 "nbformat": 4,
 "nbformat_minor": 2,
 "cells": [
  {
   "cell_type": "code",
   "execution_count": 1,
   "metadata": {},
   "outputs": [],
   "source": [
    "import glob\n",
    "import os\n",
    "import json\n",
    "from os import walk\n",
    "import re\n",
    "import random\n",
    "from subprocess import call\n",
    " "
   ]
  },
  {
   "cell_type": "code",
   "execution_count": 2,
   "metadata": {},
   "outputs": [
    {
     "output_type": "stream",
     "name": "stdout",
     "text": [
      "{'0': 'sit', '1': 'feetup', '2': 'bodylower', '3': 'laydown', '4': 'lying', '5': 'bodyshake', '6': 'grooming', '7': 'turn', '8': 'tailing', '9': 'sitdown', '10': 'footup', '11': 'armstretch', '12': 'mounting', '13': 'taillow', '14': 'heading', '15': 'arch', '16': 'roll', '17': 'getdown', '18': 'footpush', '19': 'walkrun', '20': 'bodyscratch'}\n"
     ]
    }
   ],
   "source": [
    "clssInd = {}\n",
    "with open('_clssInd.txt', 'r') as fin:    \n",
    "    test_list = [row.strip() for row in fin]    \n",
    "    for clss in test_list:\n",
    "        # print(clss.split(' '))\n",
    "        [index, clssName] = clss.split(' ')\n",
    "        clssInd[clssName] = index\n",
    "\n",
    "print(clssInd)\n"
   ]
  },
  {
   "cell_type": "code",
   "execution_count": 13,
   "metadata": {
    "tags": []
   },
   "outputs": [
    {
     "output_type": "stream",
     "name": "stdout",
     "text": [
      "sit : 19.07sec\nfeetup : 19.63sec\nbodylower : 19.17sec\nlaydown : 19.40sec\nlying : 19.83sec\nbodyshake : 18.20sec\ngrooming : 19.78sec\nturn : 19.50sec\ntailing : 19.40sec\nsitdown : 19.28sec\nfootup : 19.86sec\narmstretch : 20.26sec\nmounting : 19.03sec\ntaillow : 18.83sec\nheading : 20.08sec\narch : 19.12sec\nroll : 20.64sec\ngetdown : 19.30sec\nfootpush : 20.52sec\nwalkrun : 19.29sec\nbodyscratch : 19.55sec\n"
     ]
    },
    {
     "output_type": "execute_result",
     "data": {
      "text/plain": [
       "125.86005555555556"
      ]
     },
     "metadata": {},
     "execution_count": 13
    }
   ],
   "source": [
    "with open('train_23236.txt', 'r') as fin:\n",
    "    train_list = [row.strip().split(' ') for row in fin]    \n",
    "with open('val_23236.txt', 'r') as fin:\n",
    "    val_list = [row.strip().split(' ') for row in fin]    \n",
    "total_list = train_list + val_list\n",
    "\n",
    "\n",
    "data_crude = {}\n",
    "total_crude = 0\n",
    "for element in total_list:\n",
    "    afile, frames, class_name = element    \n",
    "    if class_name not in data_crude.keys():\n",
    "        data_crude[class_name] = {'sum':0, 'cnt':0, 'avg':0, 'total_sec':0}\n",
    "    data_crude[class_name]['sum'] += int(frames)\n",
    "    data_crude[class_name]['cnt'] += 1\n",
    "    total_crude = int(frames)\n",
    "\n",
    "for class_name in data_crude.keys():\n",
    "    data_crude[class_name]['avg'] = data_crude[class_name]['sum'] / (data_crude[class_name]['cnt'] * 5)        \n",
    "    print('{} : {:.2f}sec'.format(clssInd[class_name], data_crude[class_name]['avg']))\n"
   ]
  },
  {
   "cell_type": "code",
   "execution_count": 18,
   "metadata": {},
   "outputs": [
    {
     "output_type": "stream",
     "name": "stdout",
     "text": [
      "sitdown,21.24sec /19.28sec\ngrooming,20.98sec /19.78sec\nheading,16.15sec /20.08sec\ntailing,17.50sec /19.40sec\ntaillow,19.64sec /18.83sec\nmounting,15.99sec /19.03sec\nfootpush,8.43sec /20.52sec\nfootup,6.91sec /19.86sec\nbodylower,18.03sec /19.17sec\nbodyshake,6.85sec /18.20sec\nlying,6.62sec /19.83sec\ngetdown,19.30sec /19.30sec\nroll,19.97sec /20.64sec\nwalkrun,18.28sec /19.29sec\nturn,7.03sec /19.50sec\narch,11.45sec /19.12sec\nsit,17.67sec /19.07sec\narmstretch,15.18sec /20.26sec\nfeetup,14.67sec /19.63sec\nlaydown,18.92sec /19.40sec\nbodyscratch,14.39sec /19.55sec\n"
     ]
    },
    {
     "output_type": "execute_result",
     "data": {
      "text/plain": [
       "30.657583333333335"
      ]
     },
     "metadata": {},
     "execution_count": 18
    }
   ],
   "source": [
    "with open('../refined/_train_refined8350.txt', 'r') as fin:\n",
    "    train_list = [row.strip().split(' ') for row in fin]    \n",
    "with open('../refined/_val_refined8350.txt', 'r') as fin:\n",
    "    val_list = [row.strip().split(' ') for row in fin]    \n",
    "total_list = train_list + val_list\n",
    "\n",
    "total_refined = 0\n",
    "data_refined = {}\n",
    "for element in total_list:\n",
    "    afile, frames, class_name = element    \n",
    "    if class_name not in data_refined.keys():\n",
    "        data_refined[class_name] = {'sum':0, 'cnt':0, 'avg':0}\n",
    "    data_refined[class_name]['sum'] += int(frames)\n",
    "    total_refined += int(frames)\n",
    "    data_refined[class_name]['cnt'] += 1\n",
    "\n",
    "for class_name in data_refined.keys():\n",
    "    data_refined[class_name]['avg'] = data_refined[class_name]['sum'] / (data_refined[class_name]['cnt'] * 25)\n",
    "    print('{},{:.2f}sec /{:.2f}sec'.format(clssInd[class_name], data_refined[class_name]['avg'], data_crude[class_name]['avg'])) \n",
    "total_refined / (3600 * 30)\n"
   ]
  },
  {
   "cell_type": "code",
   "execution_count": null,
   "metadata": {},
   "outputs": [],
   "source": []
  }
 ]
}