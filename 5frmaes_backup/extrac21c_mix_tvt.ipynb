{
 "metadata": {
  "language_info": {
   "codemirror_mode": {
    "name": "ipython",
    "version": 3
   },
   "file_extension": ".py",
   "mimetype": "text/x-python",
   "name": "python",
   "nbconvert_exporter": "python",
   "pygments_lexer": "ipython3",
   "version": "3.7.6-final"
  },
  "orig_nbformat": 2,
  "kernelspec": {
   "name": "python3",
   "display_name": "Python 3",
   "language": "python"
  }
 },
 "nbformat": 4,
 "nbformat_minor": 2,
 "cells": [
  {
   "cell_type": "code",
   "execution_count": null,
   "metadata": {},
   "outputs": [],
   "source": [
    "import glob\n",
    "import os\n",
    "import json\n",
    "from os import walk\n",
    "import re\n",
    "import random\n",
    "from subprocess import call\n",
    " "
   ]
  },
  {
   "cell_type": "code",
   "execution_count": null,
   "metadata": {},
   "outputs": [],
   "source": [
    "clssInd = {}\n",
    "with open('25c.txt', 'r') as fin:    \n",
    "    test_list = [row.strip() for row in fin]    \n",
    "    for clss in test_list:\n",
    "        # print(clss.split(' '))\n",
    "        [clssName, index] = clss.split(' ')\n",
    "        clssInd[clssName] = index    \n",
    "print(clssInd)\n",
    "train_classes = {}\n",
    "refined_classes = {}\n",
    "val_core = {}\n",
    "val_classes = {}\n",
    "test_core = {}\n",
    "test_classes = {}\n",
    "for item in clssInd:    \n",
    "    refined_classes[item] = []\n",
    "    val_classes[item] = []\n",
    "    val_core[item] = []\n",
    "    test_classes[item] = []\n",
    "    test_core[item] = []\n",
    "    train_classes[item] = []"
   ]
  },
  {
   "cell_type": "code",
   "execution_count": null,
   "metadata": {},
   "outputs": [],
   "source": [
    "with open('refined_full_17c.txt', 'r') as fin:    \n",
    "    test_list = [row.strip() for row in fin]        "
   ]
  },
  {
   "cell_type": "code",
   "execution_count": null,
   "metadata": {
    "tags": []
   },
   "outputs": [],
   "source": [
    "for item in test_list:\n",
    "    core_name = item.split('/')[1].split(' ')[0]\n",
    "    clss = core_name[:-7]    \n",
    "    item = item.split(' ')[:2]\n",
    "    item = f\"{item[0]} {item[1]} {clssInd[clss]}\"        \n",
    "    refined_classes[clss].append(item)     \n",
    "refined_classes\n",
    "    "
   ]
  },
  {
   "cell_type": "code",
   "execution_count": 44,
   "metadata": {},
   "outputs": [
    {
     "output_type": "stream",
     "name": "stdout",
     "text": [
      "dog-heading 242\ndog-tailing 625\ndog-lying 572\ndog-bodyshake 306\ndog-bodylower 1106\ndog-footup 619\ndog-feetup 569\ndog-turn 362\ncat-heading 131\ncat-tailing 596\ncat-lying 238\ncat-roll 151\ncat-getdown 268\ncat-grooming 748\ncat-sitdown 205\ncat-footpush 185\ncat-arch 28\n4578\n"
     ]
    }
   ],
   "source": [
    "s_rate1 = 0.44\n",
    "s_rate2 = 0.66\n",
    "total = 0\n",
    "for clss in refined_classes:               \n",
    "    cls_len = len(refined_classes[clss])    \n",
    "    s_point1 = int(s_rate1 * cls_len)                     \n",
    "    s_point2 = int(s_rate2 * cls_len)                     \n",
    "    alist = refined_classes[clss]\n",
    "    random.shuffle(alist)\n",
    "    val_classes[clss] = alist[:s_point1]        \n",
    "    test_classes[clss] = alist[s_point1:s_point2]        \n",
    "    total += s_point2\n",
    "    print('{} {}'.format(clss, len(refined_classes[clss])))         \n",
    "\n",
    "print(total)"
   ]
  },
  {
   "cell_type": "code",
   "execution_count": null,
   "metadata": {},
   "outputs": [],
   "source": [
    "for clss in val_classes:\n",
    "    val_core[clss] = set([item.split(' ')[0] for item in val_classes[clss]])\n",
    "    test_core[clss] = set([item.split(' ')[0] for item in test_classes[clss]])\n",
    "val_core"
   ]
  },
  {
   "cell_type": "code",
   "execution_count": null,
   "metadata": {},
   "outputs": [],
   "source": [
    "with open('23236_full.txt', 'r') as fin:    \n",
    "    full_list = [row.strip() for row in fin]    "
   ]
  },
  {
   "cell_type": "code",
   "execution_count": null,
   "metadata": {
    "tags": [
     "outputPrepend"
    ]
   },
   "outputs": [],
   "source": [
    "new_list = []\n",
    "train_total = 0\n",
    "train_list = []\n",
    "for item in full_list:    \n",
    "    print()\n",
    "    a_path = item[23:]\n",
    "    core_name = a_path.split(' ')[0]\n",
    "    # print(core_name)\n",
    "    clss = core_name.split('/')[1][:-7]   \n",
    "    if clss in clssInd and core_name not in val_core[clss] and core_name not in test_core[clss]:                \n",
    "        item = item.split(' ')[:2]\n",
    "        item = f\"{item[0]} {item[1]} {clssInd[clss]}\"                \n",
    "        train_list.append(item)\n",
    "        train_total += 1 \n",
    "\n",
    "    \n",
    "    # try:    \n",
    "    #     refined_classes[clss].append(item.split(' ')[0])        \n",
    "    # except:\n",
    "    #     print(clss)  \n"
   ]
  },
  {
   "cell_type": "code",
   "execution_count": 46,
   "metadata": {},
   "outputs": [
    {
     "output_type": "execute_result",
     "data": {
      "text/plain": [
       "10393"
      ]
     },
     "metadata": {},
     "execution_count": 46
    }
   ],
   "source": [
    "train_total\n"
   ]
  },
  {
   "cell_type": "code",
   "execution_count": null,
   "metadata": {},
   "outputs": [],
   "source": [
    "with open('train_mixed_tvt_17c.txt', 'w') as f:    \n",
    "    for item in train_list:\n",
    "        f.write(\"%s\\n\" % item)"
   ]
  },
  {
   "cell_type": "code",
   "execution_count": null,
   "metadata": {},
   "outputs": [],
   "source": [
    "with open('val_mixed_tvt_17c.txt', 'w') as f:\n",
    "    for clss in val_classes:\n",
    "        for item in val_classes[clss]:\n",
    "            f.write(\"%s\\n\" % item)"
   ]
  },
  {
   "cell_type": "code",
   "execution_count": 45,
   "metadata": {},
   "outputs": [],
   "source": [
    "with open('test_mixed_tvt_17c.txt', 'w') as f:\n",
    "    for clss in test_classes:\n",
    "        for item in test_classes[clss]:\n",
    "            f.write(\"%s\\n\" % item)\n"
   ]
  },
  {
   "cell_type": "code",
   "execution_count": null,
   "metadata": {},
   "outputs": [],
   "source": []
  }
 ]
}