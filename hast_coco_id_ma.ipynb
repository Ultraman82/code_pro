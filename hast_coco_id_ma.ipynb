{
 "metadata": {
  "language_info": {
   "codemirror_mode": {
    "name": "ipython",
    "version": 3
   },
   "file_extension": ".py",
   "mimetype": "text/x-python",
   "name": "python",
   "nbconvert_exporter": "python",
   "pygments_lexer": "ipython3",
   "version": "3.8.3-final"
  },
  "orig_nbformat": 2,
  "kernelspec": {
   "name": "python3",
   "display_name": "Python 3",
   "language": "python"
  }
 },
 "nbformat": 4,
 "nbformat_minor": 2,
 "cells": [
  {
   "cell_type": "code",
   "execution_count": 17,
   "source": [
    "import json\n",
    "\n",
    "merged_path = '/home/edgar/data/dron_segmentation/annotations/drone_anno.json'"
   ],
   "outputs": [],
   "metadata": {}
  },
  {
   "cell_type": "code",
   "execution_count": 18,
   "source": [
    "with open(merged_path) as json_file:\n",
    "    json1 = json.load(json_file)     "
   ],
   "outputs": [],
   "metadata": {}
  },
  {
   "cell_type": "code",
   "execution_count": 19,
   "source": [
    "\n",
    "last_image_id = json1['images'][-1]['id']\n",
    "last_ann_id = json1['annotations'][-1]['id'] + 1\n"
   ],
   "outputs": [],
   "metadata": {}
  },
  {
   "cell_type": "code",
   "execution_count": 20,
   "source": [
    "cat_list1 = json1['categories']\n",
    "cat_list1"
   ],
   "outputs": [
    {
     "output_type": "execute_result",
     "data": {
      "text/plain": [
       "[{'id': 1, 'name': 'big_house', 'supercategory': 'object'},\n",
       " {'id': 2, 'name': 'house', 'supercategory': 'object'},\n",
       " {'id': 3, 'name': 'container', 'supercategory': 'object'},\n",
       " {'id': 4, 'name': 'big_building', 'supercategory': 'object'},\n",
       " {'id': 5, 'name': 'road', 'supercategory': 'object'},\n",
       " {'id': 6, 'name': 'building', 'supercategory': 'object'},\n",
       " {'id': 7, 'name': 'house_cluster', 'supercategory': 'object'},\n",
       " {'id': 8, 'name': 'building_cluster', 'supercategory': 'object'},\n",
       " {'id': 9, 'name': 'etc', 'supercategory': 'object'},\n",
       " {'id': 10, 'name': 'empty_soil', 'supercategory': 'object'},\n",
       " {'id': 11, 'name': 'empty_paved', 'supercategory': 'object'},\n",
       " {'id': 12, 'name': 'empty_etc', 'supercategory': 'object'}]"
      ]
     },
     "metadata": {},
     "execution_count": 20
    }
   ],
   "metadata": {}
  },
  {
   "cell_type": "code",
   "execution_count": 22,
   "source": [
    "anns = json1['annotations']\n",
    "new_ann = []\n",
    "for ann in anns:\n",
    "    cat_id = ann['category_id']\n",
    "    if cat_id in range(9):\n",
    "        if cat_id in [7, 8]:\n",
    "            ann['iscrowd'] = 1            \n",
    "        ann['category_id'] = 1\n",
    "    elif cat_id in [10, 12]:\n",
    "        ann['category_id'] = 0\n",
    "    new_ann.append(ann)\n",
    "print(new_ann[:10])\n"
   ],
   "outputs": [
    {
     "output_type": "stream",
     "name": "stdout",
     "text": [
      "[{'id': 0, 'image_id': 42, 'category_id': 1, 'segmentation': {'size': [995, 1442], 'counts': 'kl[`01Po05J3K6K5L3J6J7K4M4I6O101O10N1001O10O02N1O00000001O001O00001O0001O1O010O2N00011NO2O0001USO\\\\NVl0d1dSOdNYl0\\\\1dSOhN[l0Q2O10O10O0001O000010O01O0001O01N100000001N2O0000001O0O1O1O2O0O2O0O1O1D=I6J6H9K4J7J5M3O2K5Jakdh0'}, 'area': 5069, 'bbox': [539, 127, 91, 94], 'iscrowd': 0}, {'id': 1, 'image_id': 42, 'category_id': 1, 'segmentation': {'size': [995, 1442], 'counts': 'VWbd04nn02N2N2M3N2N1O2M3N1O2N1N3N2N1O2M3N1O2N2M2O2N1O2M3N1O2N2M2O2N2N1N3N1O2O1O010O10O10O10O10O010O10O10O10O01000O010O10O10OROlMmTOU2Pk0oMoTOQ2oj0QNQUOn1mj0UNRUOl1lj0WNSUOi1kj0YNTUOg1jj0\\\\NVUOd1hj0^NVUOd1gj0`NVUOa1ij0aNTUOb1ij0aNUUO`1jj0cNSUO_1kj0cNRUO`1kj0cNSUO^1lj0eNPUO^1mj0^1N1O2M3N1N3N1O2M3N1N3N2M2O2N2M2O2M2O2N2M2O2M3N1N3N2N1N3N1N3N2N1N3N2M2O2N2M2O2M2O2M3N1O2M3N1N3N2N1N3N1O2N2N1N3N2N1O2N2N1O2N2N1O2N1O2O1O01000O01000O010O01O1N1O2N0UNPYOdKPg0[4SYOcKlf0]4WYOaKif0^4ZYO`Kff0`4\\\\YO^Kcf0b4`YO\\\\K`f0c4cYO[K]f0d4fYOZKYf0f4jYOXKVf0g4mYOWKRf0i4QZOUKoe0k4SZOSKme0m4UZOQKje0P5XZOnJhe0R5ZZOlJfe0T5\\\\ZOjJee0U5]ZOiJde0V5^ZOhJbe0X5aZOeJ`e0Z5bZOdJ_e0[5cZObJ_e0]5cZOaJ_e0^5bZO`J`e0^5bZO`J_e0_5cZO_J_e0_5cZO_J_e0_5cZO_J_e0_5T2N2N1O2N2N2N2N2N1O2N2N2N2N2N1O2N2N2N`NdK\\\\XOZ4eg0iKXXOU4ig0oKRXOR4og0QLmWOo3Sh0ULiWOk3Xh0XLdWOh3\\\\h0\\\\L_WOe3ah0_L[WO`3gh0cLUWO]3kh0gLQWOY3Pi0jLkVOW3Ui0[11O0O2O0O2N101N1O1O2N1O2N1O2N2N2O1N2N2N2N2N2N2N2N2O2M2N2N2N2N2N2N2M3L4M3L5K4M3L4M3L4O1O1O1O1O1O2N1O1UOhSOjNYl0V1hSOhNYl0X1gSOgNZl0Y1gSOeNZl0[1fSOdN[l0\\\\1fSObN[l0^1fSO`N[l0`1eSO_N\\\\l0a1eSO]N\\\\l0c1dSO\\\\N^l0c1cSOZN_l0f1aSOYN`l0g1aSOWN`l0i1aSOUN`l0k1`SOTNal0l1;001O000001O000000000000000000001O00000001O000000000001O000000000000000000001O000001O00000000000001O0000000000000000001O[Oe00001O0000000001O00000000000000001O0000000000000N2O2M2N2O1N2N2O1N2N3N1N2N2O1N2N2O1N2N3N3L3M4M2M4L4M2M4L4M2M4L3NgXY;'}, 'area': 47299, 'bbox': [677, 174, 393, 333], 'iscrowd': 0}, {'id': 2, 'image_id': 42, 'category_id': 1, 'segmentation': {'size': [995, 1442], 'counts': 'VSdi02Po02N101O00003M1WQOGfn0<O1O001O002N00001O3M001O1O1O1O1O1O2N000000000000O100000000O1O100O100O11O00O100O1N2N3N2N2N4L2N4Kbd^`0'}, 'area': 1098, 'bbox': [844, 0, 56, 29], 'iscrowd': 0}, {'id': 3, 'image_id': 42, 'category_id': 1, 'segmentation': {'size': [995, 1442], 'counts': 'YTVZ14ln05M1N2O1N2O2M4M1O3M2M3N3M2N1O2M2O2M3M4K3K302O3M2M2O2N101M3O1O1O0O1O1N2O001001O1O001N2O1O2N1O001^NUSOj0ml0hNbSOT1\\\\m0J8HW`0'}, 'area': 2650, 'bbox': [1389, 430, 53, 79], 'iscrowd': 0}, {'id': 4, 'image_id': 42, 'category_id': 1, 'segmentation': {'size': [995, 1442], 'counts': '`^T68fn06B`0H7I5O1J5O101N2O2N2O0O2N1N3M2N2N3O0O100001O1O2M2O000000000001O0N2O1O1O100000000000O10O1N2O1O10000O101N1O1O1O2O00001O000O100000010O001O010O000000000001O010O1O0001O`MaSO<5[1Zl0XNcSO<6Y1dl0]N^SOc1Qm000001O0001O01O0000001O00000010O0001O0100O2N2N000_NcRO\\\\1^m0bNdRO]1\\\\m0cNdRO]1\\\\m0cNdRO]1[m0dNeRO]1Zm0cNfRO]1Zm06O1000000000000O1N2O2N1O1N2O1N2N200O1N3O000N200N2O100O10000O1O100N2N2O1O1O1O2N2N2M2O1N2N2O1N3M2O1N3N1O1O0O2O1000O100M3M3K5G:H7E;L5G8N3L3M3O1O2M2N3M3M2N3L4N1N2N3M2O1N3N2N1M4M2N3M2N3M\\\\d[o0'}, 'area': 13873, 'bbox': [202, 99, 207, 117], 'iscrowd': 0}, {'id': 5, 'image_id': 42, 'category_id': 1, 'segmentation': [[404, 290, 414, 294, 435, 328, 444, 327, 448, 346, 497, 337, 501, 323, 506, 314, 526, 309, 530, 323, 533, 332, 544, 328, 565, 331, 568, 357, 571, 369, 565, 383, 538, 386, 517, 387, 398, 407, 393, 380, 389, 358, 381, 350, 366, 321, 372, 304, 404, 288]], 'area': 13420.5, 'bbox': [366, 288, 205, 119], 'iscrowd': 0}, {'id': 6, 'image_id': 42, 'category_id': 1, 'segmentation': [[160, 222, 169, 222, 181, 227, 192, 235, 196, 245, 194, 251, 182, 265, 174, 289, 163, 320, 159, 325, 147, 336, 134, 336, 118, 333, 92, 329, 66, 322, 33, 313, 10, 307, 6, 306, 1, 254, 2, 247, 11, 241, 34, 248, 54, 228, 69, 232, 61, 258, 64, 259, 81, 264, 111, 270, 121, 265, 133, 252, 142, 245, 148, 233, 161, 222]], 'area': 13509.0, 'bbox': [1, 222, 195, 114], 'iscrowd': 0}, {'id': 7, 'image_id': 42, 'category_id': 1, 'segmentation': [[497, 29, 545, 42, 579, 0, 615, 0, 624, 3, 625, 9, 614, 45, 612, 51, 606, 54, 603, 64, 594, 83, 584, 98, 573, 103, 546, 96, 531, 94, 521, 92, 475, 78, 444, 73, 435, 74, 420, 58, 424, 42, 429, 22, 444, 13, 461, 15, 470, 8, 477, 0, 497, 1]], 'area': 13061.0, 'bbox': [420, 0, 205, 103], 'iscrowd': 0}, {'id': 8, 'image_id': 42, 'category_id': 1, 'segmentation': {'size': [995, 1442], 'counts': '0U4nj0O1000000O100O1O100O103MO010O01O10O01O100kNiTO]NXk0b1hTO^NYk0f20O1O100O1O100O1O1O100O100O1O100O100O100O100O1O100O1O100O1O1O1O100O1O100O1O100O1O100O1O1O100O1O100O1O100O1O1O10000O1000000O1O1O100O100O100O100O100O100000000O10000O100O100O100O10000O10000000000O1000000O100O100O100O1000000O1000000O100O10000O1000000O1O100O10000O1O100O100O100O100O100O1O100O1O100O100O1000000O100O10000O1O100O100O100O1O100N2000000O1000000O1O100O1O100O100O1O100O1O100O100O100O1O100O100O100O1O100O100O1O100O1O1O1N2O4IPlbT1'}, 'area': 16608, 'bbox': [0, 0, 237, 133], 'iscrowd': 0}, {'id': 9, 'image_id': 42, 'category_id': 1, 'segmentation': [[1162, 0, 1151, 18, 1158, 30, 1342, 121, 1358, 81, 1332, 51, 1322, 36, 1299, 28, 1295, 36, 1277, 27, 1242, 7, 1242, 0]], 'area': 11400.0, 'bbox': [1151, 0, 207, 121], 'iscrowd': 0}]\n"
     ]
    }
   ],
   "metadata": {
    "tags": []
   }
  },
  {
   "cell_type": "code",
   "execution_count": 24,
   "source": [
    "merged['annotations'] = new_ann"
   ],
   "outputs": [],
   "metadata": {}
  },
  {
   "cell_type": "code",
   "execution_count": 25,
   "source": [
    "with open('merged_binary.json', 'w') as outfile:\n",
    "    json.dump(merged, outfile)"
   ],
   "outputs": [],
   "metadata": {}
  },
  {
   "cell_type": "code",
   "execution_count": 26,
   "source": [
    "len(merged['annotations'])"
   ],
   "outputs": [
    {
     "output_type": "execute_result",
     "data": {
      "text/plain": [
       "7764"
      ]
     },
     "metadata": {},
     "execution_count": 26
    }
   ],
   "metadata": {}
  },
  {
   "cell_type": "code",
   "execution_count": null,
   "source": [],
   "outputs": [],
   "metadata": {}
  }
 ]
}